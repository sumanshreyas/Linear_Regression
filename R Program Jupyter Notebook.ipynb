{
 "cells": [
  {
   "cell_type": "code",
   "execution_count": 9,
   "id": "a6ccc4f7",
   "metadata": {},
   "outputs": [
    {
     "data": {
      "text/html": [
       "'C:/Users/Asus/Downloads/Mani Report'"
      ],
      "text/latex": [
       "'C:/Users/Asus/Downloads/Mani Report'"
      ],
      "text/markdown": [
       "'C:/Users/Asus/Downloads/Mani Report'"
      ],
      "text/plain": [
       "[1] \"C:/Users/Asus/Downloads/Mani Report\""
      ]
     },
     "metadata": {},
     "output_type": "display_data"
    }
   ],
   "source": [
    "getwd()"
   ]
  },
  {
   "cell_type": "code",
   "execution_count": 10,
   "id": "9ccf787a",
   "metadata": {},
   "outputs": [],
   "source": [
    "house <- read.csv(\"kc_house_data.csv\")"
   ]
  },
  {
   "cell_type": "code",
   "execution_count": 11,
   "id": "1c63cf29",
   "metadata": {},
   "outputs": [
    {
     "name": "stdout",
     "output_type": "stream",
     "text": [
      "'data.frame':\t21613 obs. of  21 variables:\n",
      " $ id           : num  7.13e+09 6.41e+09 5.63e+09 2.49e+09 1.95e+09 ...\n",
      " $ date         : Factor w/ 372 levels \"20140502T000000\",..: 165 221 291 221 284 11 57 252 340 306 ...\n",
      " $ price        : num  221900 538000 180000 604000 510000 ...\n",
      " $ bedrooms     : int  3 3 2 4 3 4 3 3 3 3 ...\n",
      " $ bathrooms    : num  1 2.25 1 3 2 4.5 2.25 1.5 1 2.5 ...\n",
      " $ sqft_living  : int  1180 2570 770 1960 1680 5420 1715 1060 1780 1890 ...\n",
      " $ sqft_lot     : int  5650 7242 10000 5000 8080 101930 6819 9711 7470 6560 ...\n",
      " $ floors       : num  1 2 1 1 1 1 2 1 1 2 ...\n",
      " $ waterfront   : int  0 0 0 0 0 0 0 0 0 0 ...\n",
      " $ view         : int  0 0 0 0 0 0 0 0 0 0 ...\n",
      " $ condition    : int  3 3 3 5 3 3 3 3 3 3 ...\n",
      " $ grade        : int  7 7 6 7 8 11 7 7 7 7 ...\n",
      " $ sqft_above   : int  1180 2170 770 1050 1680 3890 1715 1060 1050 1890 ...\n",
      " $ sqft_basement: int  0 400 0 910 0 1530 0 0 730 0 ...\n",
      " $ yr_built     : int  1955 1951 1933 1965 1987 2001 1995 1963 1960 2003 ...\n",
      " $ yr_renovated : int  0 1991 0 0 0 0 0 0 0 0 ...\n",
      " $ zipcode      : int  98178 98125 98028 98136 98074 98053 98003 98198 98146 98038 ...\n",
      " $ lat          : num  47.5 47.7 47.7 47.5 47.6 ...\n",
      " $ long         : num  -122 -122 -122 -122 -122 ...\n",
      " $ sqft_living15: int  1340 1690 2720 1360 1800 4760 2238 1650 1780 2390 ...\n",
      " $ sqft_lot15   : int  5650 7639 8062 5000 7503 101930 6819 9711 8113 7570 ...\n"
     ]
    }
   ],
   "source": [
    "str(house)"
   ]
  },
  {
   "cell_type": "code",
   "execution_count": 12,
   "id": "6d463089",
   "metadata": {},
   "outputs": [
    {
     "data": {
      "text/html": [
       "<table>\n",
       "<thead><tr><th scope=col>id</th><th scope=col>date</th><th scope=col>price</th><th scope=col>bedrooms</th><th scope=col>bathrooms</th><th scope=col>sqft_living</th><th scope=col>sqft_lot</th><th scope=col>floors</th><th scope=col>waterfront</th><th scope=col>view</th><th scope=col>...</th><th scope=col>grade</th><th scope=col>sqft_above</th><th scope=col>sqft_basement</th><th scope=col>yr_built</th><th scope=col>yr_renovated</th><th scope=col>zipcode</th><th scope=col>lat</th><th scope=col>long</th><th scope=col>sqft_living15</th><th scope=col>sqft_lot15</th></tr></thead>\n",
       "<tbody>\n",
       "\t<tr><td>7129300520     </td><td>20141013T000000</td><td> 221900        </td><td>3              </td><td>1.00           </td><td>1180           </td><td>  5650         </td><td>1.0            </td><td>0              </td><td>0              </td><td>...            </td><td> 7             </td><td>1180           </td><td>   0           </td><td>1955           </td><td>   0           </td><td>98178          </td><td>47.5112        </td><td>-122.257       </td><td>1340           </td><td>  5650         </td></tr>\n",
       "\t<tr><td>6414100192     </td><td>20141209T000000</td><td> 538000        </td><td>3              </td><td>2.25           </td><td>2570           </td><td>  7242         </td><td>2.0            </td><td>0              </td><td>0              </td><td>...            </td><td> 7             </td><td>2170           </td><td> 400           </td><td>1951           </td><td>1991           </td><td>98125          </td><td>47.7210        </td><td>-122.319       </td><td>1690           </td><td>  7639         </td></tr>\n",
       "\t<tr><td>5631500400     </td><td>20150225T000000</td><td> 180000        </td><td>2              </td><td>1.00           </td><td> 770           </td><td> 10000         </td><td>1.0            </td><td>0              </td><td>0              </td><td>...            </td><td> 6             </td><td> 770           </td><td>   0           </td><td>1933           </td><td>   0           </td><td>98028          </td><td>47.7379        </td><td>-122.233       </td><td>2720           </td><td>  8062         </td></tr>\n",
       "\t<tr><td>2487200875     </td><td>20141209T000000</td><td> 604000        </td><td>4              </td><td>3.00           </td><td>1960           </td><td>  5000         </td><td>1.0            </td><td>0              </td><td>0              </td><td>...            </td><td> 7             </td><td>1050           </td><td> 910           </td><td>1965           </td><td>   0           </td><td>98136          </td><td>47.5208        </td><td>-122.393       </td><td>1360           </td><td>  5000         </td></tr>\n",
       "\t<tr><td>1954400510     </td><td>20150218T000000</td><td> 510000        </td><td>3              </td><td>2.00           </td><td>1680           </td><td>  8080         </td><td>1.0            </td><td>0              </td><td>0              </td><td>...            </td><td> 8             </td><td>1680           </td><td>   0           </td><td>1987           </td><td>   0           </td><td>98074          </td><td>47.6168        </td><td>-122.045       </td><td>1800           </td><td>  7503         </td></tr>\n",
       "\t<tr><td>7237550310     </td><td>20140512T000000</td><td>1225000        </td><td>4              </td><td>4.50           </td><td>5420           </td><td>101930         </td><td>1.0            </td><td>0              </td><td>0              </td><td>...            </td><td>11             </td><td>3890           </td><td>1530           </td><td>2001           </td><td>   0           </td><td>98053          </td><td>47.6561        </td><td>-122.005       </td><td>4760           </td><td>101930         </td></tr>\n",
       "\t<tr><td>1321400060     </td><td>20140627T000000</td><td> 257500        </td><td>3              </td><td>2.25           </td><td>1715           </td><td>  6819         </td><td>2.0            </td><td>0              </td><td>0              </td><td>...            </td><td> 7             </td><td>1715           </td><td>   0           </td><td>1995           </td><td>   0           </td><td>98003          </td><td>47.3097        </td><td>-122.327       </td><td>2238           </td><td>  6819         </td></tr>\n",
       "\t<tr><td>2008000270     </td><td>20150115T000000</td><td> 291850        </td><td>3              </td><td>1.50           </td><td>1060           </td><td>  9711         </td><td>1.0            </td><td>0              </td><td>0              </td><td>...            </td><td> 7             </td><td>1060           </td><td>   0           </td><td>1963           </td><td>   0           </td><td>98198          </td><td>47.4095        </td><td>-122.315       </td><td>1650           </td><td>  9711         </td></tr>\n",
       "\t<tr><td>2414600126     </td><td>20150415T000000</td><td> 229500        </td><td>3              </td><td>1.00           </td><td>1780           </td><td>  7470         </td><td>1.0            </td><td>0              </td><td>0              </td><td>...            </td><td> 7             </td><td>1050           </td><td> 730           </td><td>1960           </td><td>   0           </td><td>98146          </td><td>47.5123        </td><td>-122.337       </td><td>1780           </td><td>  8113         </td></tr>\n",
       "\t<tr><td>3793500160     </td><td>20150312T000000</td><td> 323000        </td><td>3              </td><td>2.50           </td><td>1890           </td><td>  6560         </td><td>2.0            </td><td>0              </td><td>0              </td><td>...            </td><td> 7             </td><td>1890           </td><td>   0           </td><td>2003           </td><td>   0           </td><td>98038          </td><td>47.3684        </td><td>-122.031       </td><td>2390           </td><td>  7570         </td></tr>\n",
       "\t<tr><td>1736800520     </td><td>20150403T000000</td><td> 662500        </td><td>3              </td><td>2.50           </td><td>3560           </td><td>  9796         </td><td>1.0            </td><td>0              </td><td>0              </td><td>...            </td><td> 8             </td><td>1860           </td><td>1700           </td><td>1965           </td><td>   0           </td><td>98007          </td><td>47.6007        </td><td>-122.145       </td><td>2210           </td><td>  8925         </td></tr>\n",
       "\t<tr><td>9212900260     </td><td>20140527T000000</td><td> 468000        </td><td>2              </td><td>1.00           </td><td>1160           </td><td>  6000         </td><td>1.0            </td><td>0              </td><td>0              </td><td>...            </td><td> 7             </td><td> 860           </td><td> 300           </td><td>1942           </td><td>   0           </td><td>98115          </td><td>47.6900        </td><td>-122.292       </td><td>1330           </td><td>  6000         </td></tr>\n",
       "\t<tr><td> 114101516     </td><td>20140528T000000</td><td> 310000        </td><td>3              </td><td>1.00           </td><td>1430           </td><td> 19901         </td><td>1.5            </td><td>0              </td><td>0              </td><td>...            </td><td> 7             </td><td>1430           </td><td>   0           </td><td>1927           </td><td>   0           </td><td>98028          </td><td>47.7558        </td><td>-122.229       </td><td>1780           </td><td> 12697         </td></tr>\n",
       "\t<tr><td>6054650070     </td><td>20141007T000000</td><td> 400000        </td><td>3              </td><td>1.75           </td><td>1370           </td><td>  9680         </td><td>1.0            </td><td>0              </td><td>0              </td><td>...            </td><td> 7             </td><td>1370           </td><td>   0           </td><td>1977           </td><td>   0           </td><td>98074          </td><td>47.6127        </td><td>-122.045       </td><td>1370           </td><td> 10208         </td></tr>\n",
       "\t<tr><td>1175000570     </td><td>20150312T000000</td><td> 530000        </td><td>5              </td><td>2.00           </td><td>1810           </td><td>  4850         </td><td>1.5            </td><td>0              </td><td>0              </td><td>...            </td><td> 7             </td><td>1810           </td><td>   0           </td><td>1900           </td><td>   0           </td><td>98107          </td><td>47.6700        </td><td>-122.394       </td><td>1360           </td><td>  4850         </td></tr>\n",
       "\t<tr><td>9297300055     </td><td>20150124T000000</td><td> 650000        </td><td>4              </td><td>3.00           </td><td>2950           </td><td>  5000         </td><td>2.0            </td><td>0              </td><td>3              </td><td>...            </td><td> 9             </td><td>1980           </td><td> 970           </td><td>1979           </td><td>   0           </td><td>98126          </td><td>47.5714        </td><td>-122.375       </td><td>2140           </td><td>  4000         </td></tr>\n",
       "\t<tr><td>1875500060     </td><td>20140731T000000</td><td> 395000        </td><td>3              </td><td>2.00           </td><td>1890           </td><td> 14040         </td><td>2.0            </td><td>0              </td><td>0              </td><td>...            </td><td> 7             </td><td>1890           </td><td>   0           </td><td>1994           </td><td>   0           </td><td>98019          </td><td>47.7277        </td><td>-121.962       </td><td>1890           </td><td> 14018         </td></tr>\n",
       "\t<tr><td>6865200140     </td><td>20140529T000000</td><td> 485000        </td><td>4              </td><td>1.00           </td><td>1600           </td><td>  4300         </td><td>1.5            </td><td>0              </td><td>0              </td><td>...            </td><td> 7             </td><td>1600           </td><td>   0           </td><td>1916           </td><td>   0           </td><td>98103          </td><td>47.6648        </td><td>-122.343       </td><td>1610           </td><td>  4300         </td></tr>\n",
       "\t<tr><td>  16000397     </td><td>20141205T000000</td><td> 189000        </td><td>2              </td><td>1.00           </td><td>1200           </td><td>  9850         </td><td>1.0            </td><td>0              </td><td>0              </td><td>...            </td><td> 7             </td><td>1200           </td><td>   0           </td><td>1921           </td><td>   0           </td><td>98002          </td><td>47.3089        </td><td>-122.210       </td><td>1060           </td><td>  5095         </td></tr>\n",
       "\t<tr><td>7983200060     </td><td>20150424T000000</td><td> 230000        </td><td>3              </td><td>1.00           </td><td>1250           </td><td>  9774         </td><td>1.0            </td><td>0              </td><td>0              </td><td>...            </td><td> 7             </td><td>1250           </td><td>   0           </td><td>1969           </td><td>   0           </td><td>98003          </td><td>47.3343        </td><td>-122.306       </td><td>1280           </td><td>  8850         </td></tr>\n",
       "\t<tr><td>6300500875     </td><td>20140514T000000</td><td> 385000        </td><td>4              </td><td>1.75           </td><td>1620           </td><td>  4980         </td><td>1.0            </td><td>0              </td><td>0              </td><td>...            </td><td> 7             </td><td> 860           </td><td> 760           </td><td>1947           </td><td>   0           </td><td>98133          </td><td>47.7025        </td><td>-122.341       </td><td>1400           </td><td>  4980         </td></tr>\n",
       "\t<tr><td>2524049179     </td><td>20140826T000000</td><td>2000000        </td><td>3              </td><td>2.75           </td><td>3050           </td><td> 44867         </td><td>1.0            </td><td>0              </td><td>4              </td><td>...            </td><td> 9             </td><td>2330           </td><td> 720           </td><td>1968           </td><td>   0           </td><td>98040          </td><td>47.5316        </td><td>-122.233       </td><td>4110           </td><td> 20336         </td></tr>\n",
       "\t<tr><td>7137970340     </td><td>20140703T000000</td><td> 285000        </td><td>5              </td><td>2.50           </td><td>2270           </td><td>  6300         </td><td>2.0            </td><td>0              </td><td>0              </td><td>...            </td><td> 8             </td><td>2270           </td><td>   0           </td><td>1995           </td><td>   0           </td><td>98092          </td><td>47.3266        </td><td>-122.169       </td><td>2240           </td><td>  7005         </td></tr>\n",
       "\t<tr><td>8091400200     </td><td>20140516T000000</td><td> 252700        </td><td>2              </td><td>1.50           </td><td>1070           </td><td>  9643         </td><td>1.0            </td><td>0              </td><td>0              </td><td>...            </td><td> 7             </td><td>1070           </td><td>   0           </td><td>1985           </td><td>   0           </td><td>98030          </td><td>47.3533        </td><td>-122.166       </td><td>1220           </td><td>  8386         </td></tr>\n",
       "\t<tr><td>3814700200     </td><td>20141120T000000</td><td> 329000        </td><td>3              </td><td>2.25           </td><td>2450           </td><td>  6500         </td><td>2.0            </td><td>0              </td><td>0              </td><td>...            </td><td> 8             </td><td>2450           </td><td>   0           </td><td>1985           </td><td>   0           </td><td>98030          </td><td>47.3739        </td><td>-122.172       </td><td>2200           </td><td>  6865         </td></tr>\n",
       "\t<tr><td>1202000200     </td><td>20141103T000000</td><td> 233000        </td><td>3              </td><td>2.00           </td><td>1710           </td><td>  4697         </td><td>1.5            </td><td>0              </td><td>0              </td><td>...            </td><td> 6             </td><td>1710           </td><td>   0           </td><td>1941           </td><td>   0           </td><td>98002          </td><td>47.3048        </td><td>-122.218       </td><td>1030           </td><td>  4705         </td></tr>\n",
       "\t<tr><td>1794500383     </td><td>20140626T000000</td><td> 937000        </td><td>3              </td><td>1.75           </td><td>2450           </td><td>  2691         </td><td>2.0            </td><td>0              </td><td>0              </td><td>...            </td><td> 8             </td><td>1750           </td><td> 700           </td><td>1915           </td><td>   0           </td><td>98119          </td><td>47.6386        </td><td>-122.360       </td><td>1760           </td><td>  3573         </td></tr>\n",
       "\t<tr><td>3303700376     </td><td>20141201T000000</td><td> 667000        </td><td>3              </td><td>1.00           </td><td>1400           </td><td>  1581         </td><td>1.5            </td><td>0              </td><td>0              </td><td>...            </td><td> 8             </td><td>1400           </td><td>   0           </td><td>1909           </td><td>   0           </td><td>98112          </td><td>47.6221        </td><td>-122.314       </td><td>1860           </td><td>  3861         </td></tr>\n",
       "\t<tr><td>5101402488     </td><td>20140624T000000</td><td> 438000        </td><td>3              </td><td>1.75           </td><td>1520           </td><td>  6380         </td><td>1.0            </td><td>0              </td><td>0              </td><td>...            </td><td> 7             </td><td> 790           </td><td> 730           </td><td>1948           </td><td>   0           </td><td>98115          </td><td>47.6950        </td><td>-122.304       </td><td>1520           </td><td>  6235         </td></tr>\n",
       "\t<tr><td>1873100390     </td><td>20150302T000000</td><td> 719000        </td><td>4              </td><td>2.50           </td><td>2570           </td><td>  7173         </td><td>2.0            </td><td>0              </td><td>0              </td><td>...            </td><td> 8             </td><td>2570           </td><td>   0           </td><td>2005           </td><td>   0           </td><td>98052          </td><td>47.7073        </td><td>-122.110       </td><td>2630           </td><td>  6026         </td></tr>\n",
       "\t<tr><td>...</td><td>...</td><td>...</td><td>...</td><td>...</td><td>...</td><td>...</td><td>...</td><td>...</td><td>...</td><td>   </td><td>...</td><td>...</td><td>...</td><td>...</td><td>...</td><td>...</td><td>...</td><td>...</td><td>...</td><td>...</td></tr>\n",
       "\t<tr><td>2025049203     </td><td>20140610T000000</td><td> 399950        </td><td>2              </td><td>1.00           </td><td> 710           </td><td> 1157          </td><td>2.0            </td><td>0              </td><td>0              </td><td>...            </td><td> 7             </td><td> 710           </td><td>   0           </td><td>1943           </td><td>0              </td><td>98102          </td><td>47.6413        </td><td>-122.329       </td><td>1370           </td><td> 1173          </td></tr>\n",
       "\t<tr><td> 952006823     </td><td>20141202T000000</td><td> 380000        </td><td>3              </td><td>2.50           </td><td>1260           </td><td>  900          </td><td>2.0            </td><td>0              </td><td>0              </td><td>...            </td><td> 7             </td><td> 940           </td><td> 320           </td><td>2007           </td><td>0              </td><td>98116          </td><td>47.5621        </td><td>-122.384       </td><td>1310           </td><td> 1415          </td></tr>\n",
       "\t<tr><td>3832050760     </td><td>20140828T000000</td><td> 270000        </td><td>3              </td><td>2.50           </td><td>1870           </td><td> 5000          </td><td>2.0            </td><td>0              </td><td>0              </td><td>...            </td><td> 7             </td><td>1870           </td><td>   0           </td><td>2009           </td><td>0              </td><td>98042          </td><td>47.3339        </td><td>-122.055       </td><td>2170           </td><td> 5399          </td></tr>\n",
       "\t<tr><td>2767604724     </td><td>20141015T000000</td><td> 505000        </td><td>2              </td><td>2.50           </td><td>1430           </td><td> 1201          </td><td>3.0            </td><td>0              </td><td>0              </td><td>...            </td><td> 8             </td><td>1430           </td><td>   0           </td><td>2009           </td><td>0              </td><td>98107          </td><td>47.6707        </td><td>-122.381       </td><td>1430           </td><td> 1249          </td></tr>\n",
       "\t<tr><td>6632300207     </td><td>20150305T000000</td><td> 385000        </td><td>3              </td><td>2.50           </td><td>1520           </td><td> 1488          </td><td>3.0            </td><td>0              </td><td>0              </td><td>...            </td><td> 8             </td><td>1520           </td><td>   0           </td><td>2006           </td><td>0              </td><td>98125          </td><td>47.7337        </td><td>-122.309       </td><td>1520           </td><td> 1497          </td></tr>\n",
       "\t<tr><td>2767600688     </td><td>20141113T000000</td><td> 414500        </td><td>2              </td><td>1.50           </td><td>1210           </td><td> 1278          </td><td>2.0            </td><td>0              </td><td>0              </td><td>...            </td><td> 8             </td><td>1020           </td><td> 190           </td><td>2007           </td><td>0              </td><td>98117          </td><td>47.6756        </td><td>-122.375       </td><td>1210           </td><td> 1118          </td></tr>\n",
       "\t<tr><td>7570050450     </td><td>20140910T000000</td><td> 347500        </td><td>3              </td><td>2.50           </td><td>2540           </td><td> 4760          </td><td>2.0            </td><td>0              </td><td>0              </td><td>...            </td><td> 8             </td><td>2540           </td><td>   0           </td><td>2010           </td><td>0              </td><td>98038          </td><td>47.3452        </td><td>-122.022       </td><td>2540           </td><td> 4571          </td></tr>\n",
       "\t<tr><td>7430200100     </td><td>20140514T000000</td><td>1222500        </td><td>4              </td><td>3.50           </td><td>4910           </td><td> 9444          </td><td>1.5            </td><td>0              </td><td>0              </td><td>...            </td><td>11             </td><td>3110           </td><td>1800           </td><td>2007           </td><td>0              </td><td>98074          </td><td>47.6502        </td><td>-122.066       </td><td>4560           </td><td>11063          </td></tr>\n",
       "\t<tr><td>4140940150     </td><td>20141002T000000</td><td> 572000        </td><td>4              </td><td>2.75           </td><td>2770           </td><td> 3852          </td><td>2.0            </td><td>0              </td><td>0              </td><td>...            </td><td> 8             </td><td>2770           </td><td>   0           </td><td>2014           </td><td>0              </td><td>98178          </td><td>47.5001        </td><td>-122.232       </td><td>1810           </td><td> 5641          </td></tr>\n",
       "\t<tr><td>1931300412     </td><td>20150416T000000</td><td> 475000        </td><td>3              </td><td>2.25           </td><td>1190           </td><td> 1200          </td><td>3.0            </td><td>0              </td><td>0              </td><td>...            </td><td> 8             </td><td>1190           </td><td>   0           </td><td>2008           </td><td>0              </td><td>98103          </td><td>47.6542        </td><td>-122.346       </td><td>1180           </td><td> 1224          </td></tr>\n",
       "\t<tr><td>8672200110     </td><td>20150317T000000</td><td>1088000        </td><td>5              </td><td>3.75           </td><td>4170           </td><td> 8142          </td><td>2.0            </td><td>0              </td><td>2              </td><td>...            </td><td>10             </td><td>4170           </td><td>   0           </td><td>2006           </td><td>0              </td><td>98056          </td><td>47.5354        </td><td>-122.181       </td><td>3030           </td><td> 7980          </td></tr>\n",
       "\t<tr><td>5087900040     </td><td>20141017T000000</td><td> 350000        </td><td>4              </td><td>2.75           </td><td>2500           </td><td> 5995          </td><td>2.0            </td><td>0              </td><td>0              </td><td>...            </td><td> 8             </td><td>2500           </td><td>   0           </td><td>2008           </td><td>0              </td><td>98042          </td><td>47.3749        </td><td>-122.107       </td><td>2530           </td><td> 5988          </td></tr>\n",
       "\t<tr><td>1972201967     </td><td>20141031T000000</td><td> 520000        </td><td>2              </td><td>2.25           </td><td>1530           </td><td>  981          </td><td>3.0            </td><td>0              </td><td>0              </td><td>...            </td><td> 8             </td><td>1480           </td><td>  50           </td><td>2006           </td><td>0              </td><td>98103          </td><td>47.6533        </td><td>-122.346       </td><td>1530           </td><td> 1282          </td></tr>\n",
       "\t<tr><td>7502800100     </td><td>20140813T000000</td><td> 679950        </td><td>5              </td><td>2.75           </td><td>3600           </td><td> 9437          </td><td>2.0            </td><td>0              </td><td>0              </td><td>...            </td><td> 9             </td><td>3600           </td><td>   0           </td><td>2014           </td><td>0              </td><td>98059          </td><td>47.4822        </td><td>-122.131       </td><td>3550           </td><td> 9421          </td></tr>\n",
       "\t<tr><td> 191100405     </td><td>20150421T000000</td><td>1575000        </td><td>4              </td><td>3.25           </td><td>3410           </td><td>10125          </td><td>2.0            </td><td>0              </td><td>0              </td><td>...            </td><td>10             </td><td>3410           </td><td>   0           </td><td>2007           </td><td>0              </td><td>98040          </td><td>47.5653        </td><td>-122.223       </td><td>2290           </td><td>10125          </td></tr>\n",
       "\t<tr><td>8956200760     </td><td>20141013T000000</td><td> 541800        </td><td>4              </td><td>2.50           </td><td>3118           </td><td> 7866          </td><td>2.0            </td><td>0              </td><td>2              </td><td>...            </td><td> 9             </td><td>3118           </td><td>   0           </td><td>2014           </td><td>0              </td><td>98001          </td><td>47.2931        </td><td>-122.264       </td><td>2673           </td><td> 6500          </td></tr>\n",
       "\t<tr><td>7202300110     </td><td>20140915T000000</td><td> 810000        </td><td>4              </td><td>3.00           </td><td>3990           </td><td> 7838          </td><td>2.0            </td><td>0              </td><td>0              </td><td>...            </td><td> 9             </td><td>3990           </td><td>   0           </td><td>2003           </td><td>0              </td><td>98053          </td><td>47.6857        </td><td>-122.046       </td><td>3370           </td><td> 6814          </td></tr>\n",
       "\t<tr><td> 249000205     </td><td>20141015T000000</td><td>1537000        </td><td>5              </td><td>3.75           </td><td>4470           </td><td> 8088          </td><td>2.0            </td><td>0              </td><td>0              </td><td>...            </td><td>11             </td><td>4470           </td><td>   0           </td><td>2008           </td><td>0              </td><td>98004          </td><td>47.6321        </td><td>-122.200       </td><td>2780           </td><td> 8964          </td></tr>\n",
       "\t<tr><td>5100403806     </td><td>20150407T000000</td><td> 467000        </td><td>3              </td><td>2.50           </td><td>1425           </td><td> 1179          </td><td>3.0            </td><td>0              </td><td>0              </td><td>...            </td><td> 8             </td><td>1425           </td><td>   0           </td><td>2008           </td><td>0              </td><td>98125          </td><td>47.6963        </td><td>-122.318       </td><td>1285           </td><td> 1253          </td></tr>\n",
       "\t<tr><td> 844000965     </td><td>20140626T000000</td><td> 224000        </td><td>3              </td><td>1.75           </td><td>1500           </td><td>11968          </td><td>1.0            </td><td>0              </td><td>0              </td><td>...            </td><td> 6             </td><td>1500           </td><td>   0           </td><td>2014           </td><td>0              </td><td>98010          </td><td>47.3095        </td><td>-122.002       </td><td>1320           </td><td>11303          </td></tr>\n",
       "\t<tr><td>7852140040     </td><td>20140825T000000</td><td> 507250        </td><td>3              </td><td>2.50           </td><td>2270           </td><td> 5536          </td><td>2.0            </td><td>0              </td><td>0              </td><td>...            </td><td> 8             </td><td>2270           </td><td>   0           </td><td>2003           </td><td>0              </td><td>98065          </td><td>47.5389        </td><td>-121.881       </td><td>2270           </td><td> 5731          </td></tr>\n",
       "\t<tr><td>9834201367     </td><td>20150126T000000</td><td> 429000        </td><td>3              </td><td>2.00           </td><td>1490           </td><td> 1126          </td><td>3.0            </td><td>0              </td><td>0              </td><td>...            </td><td> 8             </td><td>1490           </td><td>   0           </td><td>2014           </td><td>0              </td><td>98144          </td><td>47.5699        </td><td>-122.288       </td><td>1400           </td><td> 1230          </td></tr>\n",
       "\t<tr><td>3448900210     </td><td>20141014T000000</td><td> 610685        </td><td>4              </td><td>2.50           </td><td>2520           </td><td> 6023          </td><td>2.0            </td><td>0              </td><td>0              </td><td>...            </td><td> 9             </td><td>2520           </td><td>   0           </td><td>2014           </td><td>0              </td><td>98056          </td><td>47.5137        </td><td>-122.167       </td><td>2520           </td><td> 6023          </td></tr>\n",
       "\t<tr><td>7936000429     </td><td>20150326T000000</td><td>1007500        </td><td>4              </td><td>3.50           </td><td>3510           </td><td> 7200          </td><td>2.0            </td><td>0              </td><td>0              </td><td>...            </td><td> 9             </td><td>2600           </td><td> 910           </td><td>2009           </td><td>0              </td><td>98136          </td><td>47.5537        </td><td>-122.398       </td><td>2050           </td><td> 6200          </td></tr>\n",
       "\t<tr><td>2997800021     </td><td>20150219T000000</td><td> 475000        </td><td>3              </td><td>2.50           </td><td>1310           </td><td> 1294          </td><td>2.0            </td><td>0              </td><td>0              </td><td>...            </td><td> 8             </td><td>1180           </td><td> 130           </td><td>2008           </td><td>0              </td><td>98116          </td><td>47.5773        </td><td>-122.409       </td><td>1330           </td><td> 1265          </td></tr>\n",
       "\t<tr><td> 263000018     </td><td>20140521T000000</td><td> 360000        </td><td>3              </td><td>2.50           </td><td>1530           </td><td> 1131          </td><td>3.0            </td><td>0              </td><td>0              </td><td>...            </td><td> 8             </td><td>1530           </td><td>   0           </td><td>2009           </td><td>0              </td><td>98103          </td><td>47.6993        </td><td>-122.346       </td><td>1530           </td><td> 1509          </td></tr>\n",
       "\t<tr><td>6600060120     </td><td>20150223T000000</td><td> 400000        </td><td>4              </td><td>2.50           </td><td>2310           </td><td> 5813          </td><td>2.0            </td><td>0              </td><td>0              </td><td>...            </td><td> 8             </td><td>2310           </td><td>   0           </td><td>2014           </td><td>0              </td><td>98146          </td><td>47.5107        </td><td>-122.362       </td><td>1830           </td><td> 7200          </td></tr>\n",
       "\t<tr><td>1523300141     </td><td>20140623T000000</td><td> 402101        </td><td>2              </td><td>0.75           </td><td>1020           </td><td> 1350          </td><td>2.0            </td><td>0              </td><td>0              </td><td>...            </td><td> 7             </td><td>1020           </td><td>   0           </td><td>2009           </td><td>0              </td><td>98144          </td><td>47.5944        </td><td>-122.299       </td><td>1020           </td><td> 2007          </td></tr>\n",
       "\t<tr><td> 291310100     </td><td>20150116T000000</td><td> 400000        </td><td>3              </td><td>2.50           </td><td>1600           </td><td> 2388          </td><td>2.0            </td><td>0              </td><td>0              </td><td>...            </td><td> 8             </td><td>1600           </td><td>   0           </td><td>2004           </td><td>0              </td><td>98027          </td><td>47.5345        </td><td>-122.069       </td><td>1410           </td><td> 1287          </td></tr>\n",
       "\t<tr><td>1523300157     </td><td>20141015T000000</td><td> 325000        </td><td>2              </td><td>0.75           </td><td>1020           </td><td> 1076          </td><td>2.0            </td><td>0              </td><td>0              </td><td>...            </td><td> 7             </td><td>1020           </td><td>   0           </td><td>2008           </td><td>0              </td><td>98144          </td><td>47.5941        </td><td>-122.299       </td><td>1020           </td><td> 1357          </td></tr>\n",
       "</tbody>\n",
       "</table>\n"
      ],
      "text/latex": [
       "\\begin{tabular}{r|lllllllllllllllllllll}\n",
       " id & date & price & bedrooms & bathrooms & sqft\\_living & sqft\\_lot & floors & waterfront & view & ... & grade & sqft\\_above & sqft\\_basement & yr\\_built & yr\\_renovated & zipcode & lat & long & sqft\\_living15 & sqft\\_lot15\\\\\n",
       "\\hline\n",
       "\t 7129300520      & 20141013T000000 &  221900         & 3               & 1.00            & 1180            &   5650          & 1.0             & 0               & 0               & ...             &  7              & 1180            &    0            & 1955            &    0            & 98178           & 47.5112         & -122.257        & 1340            &   5650         \\\\\n",
       "\t 6414100192      & 20141209T000000 &  538000         & 3               & 2.25            & 2570            &   7242          & 2.0             & 0               & 0               & ...             &  7              & 2170            &  400            & 1951            & 1991            & 98125           & 47.7210         & -122.319        & 1690            &   7639         \\\\\n",
       "\t 5631500400      & 20150225T000000 &  180000         & 2               & 1.00            &  770            &  10000          & 1.0             & 0               & 0               & ...             &  6              &  770            &    0            & 1933            &    0            & 98028           & 47.7379         & -122.233        & 2720            &   8062         \\\\\n",
       "\t 2487200875      & 20141209T000000 &  604000         & 4               & 3.00            & 1960            &   5000          & 1.0             & 0               & 0               & ...             &  7              & 1050            &  910            & 1965            &    0            & 98136           & 47.5208         & -122.393        & 1360            &   5000         \\\\\n",
       "\t 1954400510      & 20150218T000000 &  510000         & 3               & 2.00            & 1680            &   8080          & 1.0             & 0               & 0               & ...             &  8              & 1680            &    0            & 1987            &    0            & 98074           & 47.6168         & -122.045        & 1800            &   7503         \\\\\n",
       "\t 7237550310      & 20140512T000000 & 1225000         & 4               & 4.50            & 5420            & 101930          & 1.0             & 0               & 0               & ...             & 11              & 3890            & 1530            & 2001            &    0            & 98053           & 47.6561         & -122.005        & 4760            & 101930         \\\\\n",
       "\t 1321400060      & 20140627T000000 &  257500         & 3               & 2.25            & 1715            &   6819          & 2.0             & 0               & 0               & ...             &  7              & 1715            &    0            & 1995            &    0            & 98003           & 47.3097         & -122.327        & 2238            &   6819         \\\\\n",
       "\t 2008000270      & 20150115T000000 &  291850         & 3               & 1.50            & 1060            &   9711          & 1.0             & 0               & 0               & ...             &  7              & 1060            &    0            & 1963            &    0            & 98198           & 47.4095         & -122.315        & 1650            &   9711         \\\\\n",
       "\t 2414600126      & 20150415T000000 &  229500         & 3               & 1.00            & 1780            &   7470          & 1.0             & 0               & 0               & ...             &  7              & 1050            &  730            & 1960            &    0            & 98146           & 47.5123         & -122.337        & 1780            &   8113         \\\\\n",
       "\t 3793500160      & 20150312T000000 &  323000         & 3               & 2.50            & 1890            &   6560          & 2.0             & 0               & 0               & ...             &  7              & 1890            &    0            & 2003            &    0            & 98038           & 47.3684         & -122.031        & 2390            &   7570         \\\\\n",
       "\t 1736800520      & 20150403T000000 &  662500         & 3               & 2.50            & 3560            &   9796          & 1.0             & 0               & 0               & ...             &  8              & 1860            & 1700            & 1965            &    0            & 98007           & 47.6007         & -122.145        & 2210            &   8925         \\\\\n",
       "\t 9212900260      & 20140527T000000 &  468000         & 2               & 1.00            & 1160            &   6000          & 1.0             & 0               & 0               & ...             &  7              &  860            &  300            & 1942            &    0            & 98115           & 47.6900         & -122.292        & 1330            &   6000         \\\\\n",
       "\t  114101516      & 20140528T000000 &  310000         & 3               & 1.00            & 1430            &  19901          & 1.5             & 0               & 0               & ...             &  7              & 1430            &    0            & 1927            &    0            & 98028           & 47.7558         & -122.229        & 1780            &  12697         \\\\\n",
       "\t 6054650070      & 20141007T000000 &  400000         & 3               & 1.75            & 1370            &   9680          & 1.0             & 0               & 0               & ...             &  7              & 1370            &    0            & 1977            &    0            & 98074           & 47.6127         & -122.045        & 1370            &  10208         \\\\\n",
       "\t 1175000570      & 20150312T000000 &  530000         & 5               & 2.00            & 1810            &   4850          & 1.5             & 0               & 0               & ...             &  7              & 1810            &    0            & 1900            &    0            & 98107           & 47.6700         & -122.394        & 1360            &   4850         \\\\\n",
       "\t 9297300055      & 20150124T000000 &  650000         & 4               & 3.00            & 2950            &   5000          & 2.0             & 0               & 3               & ...             &  9              & 1980            &  970            & 1979            &    0            & 98126           & 47.5714         & -122.375        & 2140            &   4000         \\\\\n",
       "\t 1875500060      & 20140731T000000 &  395000         & 3               & 2.00            & 1890            &  14040          & 2.0             & 0               & 0               & ...             &  7              & 1890            &    0            & 1994            &    0            & 98019           & 47.7277         & -121.962        & 1890            &  14018         \\\\\n",
       "\t 6865200140      & 20140529T000000 &  485000         & 4               & 1.00            & 1600            &   4300          & 1.5             & 0               & 0               & ...             &  7              & 1600            &    0            & 1916            &    0            & 98103           & 47.6648         & -122.343        & 1610            &   4300         \\\\\n",
       "\t   16000397      & 20141205T000000 &  189000         & 2               & 1.00            & 1200            &   9850          & 1.0             & 0               & 0               & ...             &  7              & 1200            &    0            & 1921            &    0            & 98002           & 47.3089         & -122.210        & 1060            &   5095         \\\\\n",
       "\t 7983200060      & 20150424T000000 &  230000         & 3               & 1.00            & 1250            &   9774          & 1.0             & 0               & 0               & ...             &  7              & 1250            &    0            & 1969            &    0            & 98003           & 47.3343         & -122.306        & 1280            &   8850         \\\\\n",
       "\t 6300500875      & 20140514T000000 &  385000         & 4               & 1.75            & 1620            &   4980          & 1.0             & 0               & 0               & ...             &  7              &  860            &  760            & 1947            &    0            & 98133           & 47.7025         & -122.341        & 1400            &   4980         \\\\\n",
       "\t 2524049179      & 20140826T000000 & 2000000         & 3               & 2.75            & 3050            &  44867          & 1.0             & 0               & 4               & ...             &  9              & 2330            &  720            & 1968            &    0            & 98040           & 47.5316         & -122.233        & 4110            &  20336         \\\\\n",
       "\t 7137970340      & 20140703T000000 &  285000         & 5               & 2.50            & 2270            &   6300          & 2.0             & 0               & 0               & ...             &  8              & 2270            &    0            & 1995            &    0            & 98092           & 47.3266         & -122.169        & 2240            &   7005         \\\\\n",
       "\t 8091400200      & 20140516T000000 &  252700         & 2               & 1.50            & 1070            &   9643          & 1.0             & 0               & 0               & ...             &  7              & 1070            &    0            & 1985            &    0            & 98030           & 47.3533         & -122.166        & 1220            &   8386         \\\\\n",
       "\t 3814700200      & 20141120T000000 &  329000         & 3               & 2.25            & 2450            &   6500          & 2.0             & 0               & 0               & ...             &  8              & 2450            &    0            & 1985            &    0            & 98030           & 47.3739         & -122.172        & 2200            &   6865         \\\\\n",
       "\t 1202000200      & 20141103T000000 &  233000         & 3               & 2.00            & 1710            &   4697          & 1.5             & 0               & 0               & ...             &  6              & 1710            &    0            & 1941            &    0            & 98002           & 47.3048         & -122.218        & 1030            &   4705         \\\\\n",
       "\t 1794500383      & 20140626T000000 &  937000         & 3               & 1.75            & 2450            &   2691          & 2.0             & 0               & 0               & ...             &  8              & 1750            &  700            & 1915            &    0            & 98119           & 47.6386         & -122.360        & 1760            &   3573         \\\\\n",
       "\t 3303700376      & 20141201T000000 &  667000         & 3               & 1.00            & 1400            &   1581          & 1.5             & 0               & 0               & ...             &  8              & 1400            &    0            & 1909            &    0            & 98112           & 47.6221         & -122.314        & 1860            &   3861         \\\\\n",
       "\t 5101402488      & 20140624T000000 &  438000         & 3               & 1.75            & 1520            &   6380          & 1.0             & 0               & 0               & ...             &  7              &  790            &  730            & 1948            &    0            & 98115           & 47.6950         & -122.304        & 1520            &   6235         \\\\\n",
       "\t 1873100390      & 20150302T000000 &  719000         & 4               & 2.50            & 2570            &   7173          & 2.0             & 0               & 0               & ...             &  8              & 2570            &    0            & 2005            &    0            & 98052           & 47.7073         & -122.110        & 2630            &   6026         \\\\\n",
       "\t ... & ... & ... & ... & ... & ... & ... & ... & ... & ... &     & ... & ... & ... & ... & ... & ... & ... & ... & ... & ...\\\\\n",
       "\t 2025049203      & 20140610T000000 &  399950         & 2               & 1.00            &  710            &  1157           & 2.0             & 0               & 0               & ...             &  7              &  710            &    0            & 1943            & 0               & 98102           & 47.6413         & -122.329        & 1370            &  1173          \\\\\n",
       "\t  952006823      & 20141202T000000 &  380000         & 3               & 2.50            & 1260            &   900           & 2.0             & 0               & 0               & ...             &  7              &  940            &  320            & 2007            & 0               & 98116           & 47.5621         & -122.384        & 1310            &  1415          \\\\\n",
       "\t 3832050760      & 20140828T000000 &  270000         & 3               & 2.50            & 1870            &  5000           & 2.0             & 0               & 0               & ...             &  7              & 1870            &    0            & 2009            & 0               & 98042           & 47.3339         & -122.055        & 2170            &  5399          \\\\\n",
       "\t 2767604724      & 20141015T000000 &  505000         & 2               & 2.50            & 1430            &  1201           & 3.0             & 0               & 0               & ...             &  8              & 1430            &    0            & 2009            & 0               & 98107           & 47.6707         & -122.381        & 1430            &  1249          \\\\\n",
       "\t 6632300207      & 20150305T000000 &  385000         & 3               & 2.50            & 1520            &  1488           & 3.0             & 0               & 0               & ...             &  8              & 1520            &    0            & 2006            & 0               & 98125           & 47.7337         & -122.309        & 1520            &  1497          \\\\\n",
       "\t 2767600688      & 20141113T000000 &  414500         & 2               & 1.50            & 1210            &  1278           & 2.0             & 0               & 0               & ...             &  8              & 1020            &  190            & 2007            & 0               & 98117           & 47.6756         & -122.375        & 1210            &  1118          \\\\\n",
       "\t 7570050450      & 20140910T000000 &  347500         & 3               & 2.50            & 2540            &  4760           & 2.0             & 0               & 0               & ...             &  8              & 2540            &    0            & 2010            & 0               & 98038           & 47.3452         & -122.022        & 2540            &  4571          \\\\\n",
       "\t 7430200100      & 20140514T000000 & 1222500         & 4               & 3.50            & 4910            &  9444           & 1.5             & 0               & 0               & ...             & 11              & 3110            & 1800            & 2007            & 0               & 98074           & 47.6502         & -122.066        & 4560            & 11063          \\\\\n",
       "\t 4140940150      & 20141002T000000 &  572000         & 4               & 2.75            & 2770            &  3852           & 2.0             & 0               & 0               & ...             &  8              & 2770            &    0            & 2014            & 0               & 98178           & 47.5001         & -122.232        & 1810            &  5641          \\\\\n",
       "\t 1931300412      & 20150416T000000 &  475000         & 3               & 2.25            & 1190            &  1200           & 3.0             & 0               & 0               & ...             &  8              & 1190            &    0            & 2008            & 0               & 98103           & 47.6542         & -122.346        & 1180            &  1224          \\\\\n",
       "\t 8672200110      & 20150317T000000 & 1088000         & 5               & 3.75            & 4170            &  8142           & 2.0             & 0               & 2               & ...             & 10              & 4170            &    0            & 2006            & 0               & 98056           & 47.5354         & -122.181        & 3030            &  7980          \\\\\n",
       "\t 5087900040      & 20141017T000000 &  350000         & 4               & 2.75            & 2500            &  5995           & 2.0             & 0               & 0               & ...             &  8              & 2500            &    0            & 2008            & 0               & 98042           & 47.3749         & -122.107        & 2530            &  5988          \\\\\n",
       "\t 1972201967      & 20141031T000000 &  520000         & 2               & 2.25            & 1530            &   981           & 3.0             & 0               & 0               & ...             &  8              & 1480            &   50            & 2006            & 0               & 98103           & 47.6533         & -122.346        & 1530            &  1282          \\\\\n",
       "\t 7502800100      & 20140813T000000 &  679950         & 5               & 2.75            & 3600            &  9437           & 2.0             & 0               & 0               & ...             &  9              & 3600            &    0            & 2014            & 0               & 98059           & 47.4822         & -122.131        & 3550            &  9421          \\\\\n",
       "\t  191100405      & 20150421T000000 & 1575000         & 4               & 3.25            & 3410            & 10125           & 2.0             & 0               & 0               & ...             & 10              & 3410            &    0            & 2007            & 0               & 98040           & 47.5653         & -122.223        & 2290            & 10125          \\\\\n",
       "\t 8956200760      & 20141013T000000 &  541800         & 4               & 2.50            & 3118            &  7866           & 2.0             & 0               & 2               & ...             &  9              & 3118            &    0            & 2014            & 0               & 98001           & 47.2931         & -122.264        & 2673            &  6500          \\\\\n",
       "\t 7202300110      & 20140915T000000 &  810000         & 4               & 3.00            & 3990            &  7838           & 2.0             & 0               & 0               & ...             &  9              & 3990            &    0            & 2003            & 0               & 98053           & 47.6857         & -122.046        & 3370            &  6814          \\\\\n",
       "\t  249000205      & 20141015T000000 & 1537000         & 5               & 3.75            & 4470            &  8088           & 2.0             & 0               & 0               & ...             & 11              & 4470            &    0            & 2008            & 0               & 98004           & 47.6321         & -122.200        & 2780            &  8964          \\\\\n",
       "\t 5100403806      & 20150407T000000 &  467000         & 3               & 2.50            & 1425            &  1179           & 3.0             & 0               & 0               & ...             &  8              & 1425            &    0            & 2008            & 0               & 98125           & 47.6963         & -122.318        & 1285            &  1253          \\\\\n",
       "\t  844000965      & 20140626T000000 &  224000         & 3               & 1.75            & 1500            & 11968           & 1.0             & 0               & 0               & ...             &  6              & 1500            &    0            & 2014            & 0               & 98010           & 47.3095         & -122.002        & 1320            & 11303          \\\\\n",
       "\t 7852140040      & 20140825T000000 &  507250         & 3               & 2.50            & 2270            &  5536           & 2.0             & 0               & 0               & ...             &  8              & 2270            &    0            & 2003            & 0               & 98065           & 47.5389         & -121.881        & 2270            &  5731          \\\\\n",
       "\t 9834201367      & 20150126T000000 &  429000         & 3               & 2.00            & 1490            &  1126           & 3.0             & 0               & 0               & ...             &  8              & 1490            &    0            & 2014            & 0               & 98144           & 47.5699         & -122.288        & 1400            &  1230          \\\\\n",
       "\t 3448900210      & 20141014T000000 &  610685         & 4               & 2.50            & 2520            &  6023           & 2.0             & 0               & 0               & ...             &  9              & 2520            &    0            & 2014            & 0               & 98056           & 47.5137         & -122.167        & 2520            &  6023          \\\\\n",
       "\t 7936000429      & 20150326T000000 & 1007500         & 4               & 3.50            & 3510            &  7200           & 2.0             & 0               & 0               & ...             &  9              & 2600            &  910            & 2009            & 0               & 98136           & 47.5537         & -122.398        & 2050            &  6200          \\\\\n",
       "\t 2997800021      & 20150219T000000 &  475000         & 3               & 2.50            & 1310            &  1294           & 2.0             & 0               & 0               & ...             &  8              & 1180            &  130            & 2008            & 0               & 98116           & 47.5773         & -122.409        & 1330            &  1265          \\\\\n",
       "\t  263000018      & 20140521T000000 &  360000         & 3               & 2.50            & 1530            &  1131           & 3.0             & 0               & 0               & ...             &  8              & 1530            &    0            & 2009            & 0               & 98103           & 47.6993         & -122.346        & 1530            &  1509          \\\\\n",
       "\t 6600060120      & 20150223T000000 &  400000         & 4               & 2.50            & 2310            &  5813           & 2.0             & 0               & 0               & ...             &  8              & 2310            &    0            & 2014            & 0               & 98146           & 47.5107         & -122.362        & 1830            &  7200          \\\\\n",
       "\t 1523300141      & 20140623T000000 &  402101         & 2               & 0.75            & 1020            &  1350           & 2.0             & 0               & 0               & ...             &  7              & 1020            &    0            & 2009            & 0               & 98144           & 47.5944         & -122.299        & 1020            &  2007          \\\\\n",
       "\t  291310100      & 20150116T000000 &  400000         & 3               & 2.50            & 1600            &  2388           & 2.0             & 0               & 0               & ...             &  8              & 1600            &    0            & 2004            & 0               & 98027           & 47.5345         & -122.069        & 1410            &  1287          \\\\\n",
       "\t 1523300157      & 20141015T000000 &  325000         & 2               & 0.75            & 1020            &  1076           & 2.0             & 0               & 0               & ...             &  7              & 1020            &    0            & 2008            & 0               & 98144           & 47.5941         & -122.299        & 1020            &  1357          \\\\\n",
       "\\end{tabular}\n"
      ],
      "text/markdown": [
       "\n",
       "| id | date | price | bedrooms | bathrooms | sqft_living | sqft_lot | floors | waterfront | view | ... | grade | sqft_above | sqft_basement | yr_built | yr_renovated | zipcode | lat | long | sqft_living15 | sqft_lot15 |\n",
       "|---|---|---|---|---|---|---|---|---|---|---|---|---|---|---|---|---|---|---|---|---|\n",
       "| 7129300520      | 20141013T000000 |  221900         | 3               | 1.00            | 1180            |   5650          | 1.0             | 0               | 0               | ...             |  7              | 1180            |    0            | 1955            |    0            | 98178           | 47.5112         | -122.257        | 1340            |   5650          |\n",
       "| 6414100192      | 20141209T000000 |  538000         | 3               | 2.25            | 2570            |   7242          | 2.0             | 0               | 0               | ...             |  7              | 2170            |  400            | 1951            | 1991            | 98125           | 47.7210         | -122.319        | 1690            |   7639          |\n",
       "| 5631500400      | 20150225T000000 |  180000         | 2               | 1.00            |  770            |  10000          | 1.0             | 0               | 0               | ...             |  6              |  770            |    0            | 1933            |    0            | 98028           | 47.7379         | -122.233        | 2720            |   8062          |\n",
       "| 2487200875      | 20141209T000000 |  604000         | 4               | 3.00            | 1960            |   5000          | 1.0             | 0               | 0               | ...             |  7              | 1050            |  910            | 1965            |    0            | 98136           | 47.5208         | -122.393        | 1360            |   5000          |\n",
       "| 1954400510      | 20150218T000000 |  510000         | 3               | 2.00            | 1680            |   8080          | 1.0             | 0               | 0               | ...             |  8              | 1680            |    0            | 1987            |    0            | 98074           | 47.6168         | -122.045        | 1800            |   7503          |\n",
       "| 7237550310      | 20140512T000000 | 1225000         | 4               | 4.50            | 5420            | 101930          | 1.0             | 0               | 0               | ...             | 11              | 3890            | 1530            | 2001            |    0            | 98053           | 47.6561         | -122.005        | 4760            | 101930          |\n",
       "| 1321400060      | 20140627T000000 |  257500         | 3               | 2.25            | 1715            |   6819          | 2.0             | 0               | 0               | ...             |  7              | 1715            |    0            | 1995            |    0            | 98003           | 47.3097         | -122.327        | 2238            |   6819          |\n",
       "| 2008000270      | 20150115T000000 |  291850         | 3               | 1.50            | 1060            |   9711          | 1.0             | 0               | 0               | ...             |  7              | 1060            |    0            | 1963            |    0            | 98198           | 47.4095         | -122.315        | 1650            |   9711          |\n",
       "| 2414600126      | 20150415T000000 |  229500         | 3               | 1.00            | 1780            |   7470          | 1.0             | 0               | 0               | ...             |  7              | 1050            |  730            | 1960            |    0            | 98146           | 47.5123         | -122.337        | 1780            |   8113          |\n",
       "| 3793500160      | 20150312T000000 |  323000         | 3               | 2.50            | 1890            |   6560          | 2.0             | 0               | 0               | ...             |  7              | 1890            |    0            | 2003            |    0            | 98038           | 47.3684         | -122.031        | 2390            |   7570          |\n",
       "| 1736800520      | 20150403T000000 |  662500         | 3               | 2.50            | 3560            |   9796          | 1.0             | 0               | 0               | ...             |  8              | 1860            | 1700            | 1965            |    0            | 98007           | 47.6007         | -122.145        | 2210            |   8925          |\n",
       "| 9212900260      | 20140527T000000 |  468000         | 2               | 1.00            | 1160            |   6000          | 1.0             | 0               | 0               | ...             |  7              |  860            |  300            | 1942            |    0            | 98115           | 47.6900         | -122.292        | 1330            |   6000          |\n",
       "|  114101516      | 20140528T000000 |  310000         | 3               | 1.00            | 1430            |  19901          | 1.5             | 0               | 0               | ...             |  7              | 1430            |    0            | 1927            |    0            | 98028           | 47.7558         | -122.229        | 1780            |  12697          |\n",
       "| 6054650070      | 20141007T000000 |  400000         | 3               | 1.75            | 1370            |   9680          | 1.0             | 0               | 0               | ...             |  7              | 1370            |    0            | 1977            |    0            | 98074           | 47.6127         | -122.045        | 1370            |  10208          |\n",
       "| 1175000570      | 20150312T000000 |  530000         | 5               | 2.00            | 1810            |   4850          | 1.5             | 0               | 0               | ...             |  7              | 1810            |    0            | 1900            |    0            | 98107           | 47.6700         | -122.394        | 1360            |   4850          |\n",
       "| 9297300055      | 20150124T000000 |  650000         | 4               | 3.00            | 2950            |   5000          | 2.0             | 0               | 3               | ...             |  9              | 1980            |  970            | 1979            |    0            | 98126           | 47.5714         | -122.375        | 2140            |   4000          |\n",
       "| 1875500060      | 20140731T000000 |  395000         | 3               | 2.00            | 1890            |  14040          | 2.0             | 0               | 0               | ...             |  7              | 1890            |    0            | 1994            |    0            | 98019           | 47.7277         | -121.962        | 1890            |  14018          |\n",
       "| 6865200140      | 20140529T000000 |  485000         | 4               | 1.00            | 1600            |   4300          | 1.5             | 0               | 0               | ...             |  7              | 1600            |    0            | 1916            |    0            | 98103           | 47.6648         | -122.343        | 1610            |   4300          |\n",
       "|   16000397      | 20141205T000000 |  189000         | 2               | 1.00            | 1200            |   9850          | 1.0             | 0               | 0               | ...             |  7              | 1200            |    0            | 1921            |    0            | 98002           | 47.3089         | -122.210        | 1060            |   5095          |\n",
       "| 7983200060      | 20150424T000000 |  230000         | 3               | 1.00            | 1250            |   9774          | 1.0             | 0               | 0               | ...             |  7              | 1250            |    0            | 1969            |    0            | 98003           | 47.3343         | -122.306        | 1280            |   8850          |\n",
       "| 6300500875      | 20140514T000000 |  385000         | 4               | 1.75            | 1620            |   4980          | 1.0             | 0               | 0               | ...             |  7              |  860            |  760            | 1947            |    0            | 98133           | 47.7025         | -122.341        | 1400            |   4980          |\n",
       "| 2524049179      | 20140826T000000 | 2000000         | 3               | 2.75            | 3050            |  44867          | 1.0             | 0               | 4               | ...             |  9              | 2330            |  720            | 1968            |    0            | 98040           | 47.5316         | -122.233        | 4110            |  20336          |\n",
       "| 7137970340      | 20140703T000000 |  285000         | 5               | 2.50            | 2270            |   6300          | 2.0             | 0               | 0               | ...             |  8              | 2270            |    0            | 1995            |    0            | 98092           | 47.3266         | -122.169        | 2240            |   7005          |\n",
       "| 8091400200      | 20140516T000000 |  252700         | 2               | 1.50            | 1070            |   9643          | 1.0             | 0               | 0               | ...             |  7              | 1070            |    0            | 1985            |    0            | 98030           | 47.3533         | -122.166        | 1220            |   8386          |\n",
       "| 3814700200      | 20141120T000000 |  329000         | 3               | 2.25            | 2450            |   6500          | 2.0             | 0               | 0               | ...             |  8              | 2450            |    0            | 1985            |    0            | 98030           | 47.3739         | -122.172        | 2200            |   6865          |\n",
       "| 1202000200      | 20141103T000000 |  233000         | 3               | 2.00            | 1710            |   4697          | 1.5             | 0               | 0               | ...             |  6              | 1710            |    0            | 1941            |    0            | 98002           | 47.3048         | -122.218        | 1030            |   4705          |\n",
       "| 1794500383      | 20140626T000000 |  937000         | 3               | 1.75            | 2450            |   2691          | 2.0             | 0               | 0               | ...             |  8              | 1750            |  700            | 1915            |    0            | 98119           | 47.6386         | -122.360        | 1760            |   3573          |\n",
       "| 3303700376      | 20141201T000000 |  667000         | 3               | 1.00            | 1400            |   1581          | 1.5             | 0               | 0               | ...             |  8              | 1400            |    0            | 1909            |    0            | 98112           | 47.6221         | -122.314        | 1860            |   3861          |\n",
       "| 5101402488      | 20140624T000000 |  438000         | 3               | 1.75            | 1520            |   6380          | 1.0             | 0               | 0               | ...             |  7              |  790            |  730            | 1948            |    0            | 98115           | 47.6950         | -122.304        | 1520            |   6235          |\n",
       "| 1873100390      | 20150302T000000 |  719000         | 4               | 2.50            | 2570            |   7173          | 2.0             | 0               | 0               | ...             |  8              | 2570            |    0            | 2005            |    0            | 98052           | 47.7073         | -122.110        | 2630            |   6026          |\n",
       "| ... | ... | ... | ... | ... | ... | ... | ... | ... | ... |     | ... | ... | ... | ... | ... | ... | ... | ... | ... | ... |\n",
       "| 2025049203      | 20140610T000000 |  399950         | 2               | 1.00            |  710            |  1157           | 2.0             | 0               | 0               | ...             |  7              |  710            |    0            | 1943            | 0               | 98102           | 47.6413         | -122.329        | 1370            |  1173           |\n",
       "|  952006823      | 20141202T000000 |  380000         | 3               | 2.50            | 1260            |   900           | 2.0             | 0               | 0               | ...             |  7              |  940            |  320            | 2007            | 0               | 98116           | 47.5621         | -122.384        | 1310            |  1415           |\n",
       "| 3832050760      | 20140828T000000 |  270000         | 3               | 2.50            | 1870            |  5000           | 2.0             | 0               | 0               | ...             |  7              | 1870            |    0            | 2009            | 0               | 98042           | 47.3339         | -122.055        | 2170            |  5399           |\n",
       "| 2767604724      | 20141015T000000 |  505000         | 2               | 2.50            | 1430            |  1201           | 3.0             | 0               | 0               | ...             |  8              | 1430            |    0            | 2009            | 0               | 98107           | 47.6707         | -122.381        | 1430            |  1249           |\n",
       "| 6632300207      | 20150305T000000 |  385000         | 3               | 2.50            | 1520            |  1488           | 3.0             | 0               | 0               | ...             |  8              | 1520            |    0            | 2006            | 0               | 98125           | 47.7337         | -122.309        | 1520            |  1497           |\n",
       "| 2767600688      | 20141113T000000 |  414500         | 2               | 1.50            | 1210            |  1278           | 2.0             | 0               | 0               | ...             |  8              | 1020            |  190            | 2007            | 0               | 98117           | 47.6756         | -122.375        | 1210            |  1118           |\n",
       "| 7570050450      | 20140910T000000 |  347500         | 3               | 2.50            | 2540            |  4760           | 2.0             | 0               | 0               | ...             |  8              | 2540            |    0            | 2010            | 0               | 98038           | 47.3452         | -122.022        | 2540            |  4571           |\n",
       "| 7430200100      | 20140514T000000 | 1222500         | 4               | 3.50            | 4910            |  9444           | 1.5             | 0               | 0               | ...             | 11              | 3110            | 1800            | 2007            | 0               | 98074           | 47.6502         | -122.066        | 4560            | 11063           |\n",
       "| 4140940150      | 20141002T000000 |  572000         | 4               | 2.75            | 2770            |  3852           | 2.0             | 0               | 0               | ...             |  8              | 2770            |    0            | 2014            | 0               | 98178           | 47.5001         | -122.232        | 1810            |  5641           |\n",
       "| 1931300412      | 20150416T000000 |  475000         | 3               | 2.25            | 1190            |  1200           | 3.0             | 0               | 0               | ...             |  8              | 1190            |    0            | 2008            | 0               | 98103           | 47.6542         | -122.346        | 1180            |  1224           |\n",
       "| 8672200110      | 20150317T000000 | 1088000         | 5               | 3.75            | 4170            |  8142           | 2.0             | 0               | 2               | ...             | 10              | 4170            |    0            | 2006            | 0               | 98056           | 47.5354         | -122.181        | 3030            |  7980           |\n",
       "| 5087900040      | 20141017T000000 |  350000         | 4               | 2.75            | 2500            |  5995           | 2.0             | 0               | 0               | ...             |  8              | 2500            |    0            | 2008            | 0               | 98042           | 47.3749         | -122.107        | 2530            |  5988           |\n",
       "| 1972201967      | 20141031T000000 |  520000         | 2               | 2.25            | 1530            |   981           | 3.0             | 0               | 0               | ...             |  8              | 1480            |   50            | 2006            | 0               | 98103           | 47.6533         | -122.346        | 1530            |  1282           |\n",
       "| 7502800100      | 20140813T000000 |  679950         | 5               | 2.75            | 3600            |  9437           | 2.0             | 0               | 0               | ...             |  9              | 3600            |    0            | 2014            | 0               | 98059           | 47.4822         | -122.131        | 3550            |  9421           |\n",
       "|  191100405      | 20150421T000000 | 1575000         | 4               | 3.25            | 3410            | 10125           | 2.0             | 0               | 0               | ...             | 10              | 3410            |    0            | 2007            | 0               | 98040           | 47.5653         | -122.223        | 2290            | 10125           |\n",
       "| 8956200760      | 20141013T000000 |  541800         | 4               | 2.50            | 3118            |  7866           | 2.0             | 0               | 2               | ...             |  9              | 3118            |    0            | 2014            | 0               | 98001           | 47.2931         | -122.264        | 2673            |  6500           |\n",
       "| 7202300110      | 20140915T000000 |  810000         | 4               | 3.00            | 3990            |  7838           | 2.0             | 0               | 0               | ...             |  9              | 3990            |    0            | 2003            | 0               | 98053           | 47.6857         | -122.046        | 3370            |  6814           |\n",
       "|  249000205      | 20141015T000000 | 1537000         | 5               | 3.75            | 4470            |  8088           | 2.0             | 0               | 0               | ...             | 11              | 4470            |    0            | 2008            | 0               | 98004           | 47.6321         | -122.200        | 2780            |  8964           |\n",
       "| 5100403806      | 20150407T000000 |  467000         | 3               | 2.50            | 1425            |  1179           | 3.0             | 0               | 0               | ...             |  8              | 1425            |    0            | 2008            | 0               | 98125           | 47.6963         | -122.318        | 1285            |  1253           |\n",
       "|  844000965      | 20140626T000000 |  224000         | 3               | 1.75            | 1500            | 11968           | 1.0             | 0               | 0               | ...             |  6              | 1500            |    0            | 2014            | 0               | 98010           | 47.3095         | -122.002        | 1320            | 11303           |\n",
       "| 7852140040      | 20140825T000000 |  507250         | 3               | 2.50            | 2270            |  5536           | 2.0             | 0               | 0               | ...             |  8              | 2270            |    0            | 2003            | 0               | 98065           | 47.5389         | -121.881        | 2270            |  5731           |\n",
       "| 9834201367      | 20150126T000000 |  429000         | 3               | 2.00            | 1490            |  1126           | 3.0             | 0               | 0               | ...             |  8              | 1490            |    0            | 2014            | 0               | 98144           | 47.5699         | -122.288        | 1400            |  1230           |\n",
       "| 3448900210      | 20141014T000000 |  610685         | 4               | 2.50            | 2520            |  6023           | 2.0             | 0               | 0               | ...             |  9              | 2520            |    0            | 2014            | 0               | 98056           | 47.5137         | -122.167        | 2520            |  6023           |\n",
       "| 7936000429      | 20150326T000000 | 1007500         | 4               | 3.50            | 3510            |  7200           | 2.0             | 0               | 0               | ...             |  9              | 2600            |  910            | 2009            | 0               | 98136           | 47.5537         | -122.398        | 2050            |  6200           |\n",
       "| 2997800021      | 20150219T000000 |  475000         | 3               | 2.50            | 1310            |  1294           | 2.0             | 0               | 0               | ...             |  8              | 1180            |  130            | 2008            | 0               | 98116           | 47.5773         | -122.409        | 1330            |  1265           |\n",
       "|  263000018      | 20140521T000000 |  360000         | 3               | 2.50            | 1530            |  1131           | 3.0             | 0               | 0               | ...             |  8              | 1530            |    0            | 2009            | 0               | 98103           | 47.6993         | -122.346        | 1530            |  1509           |\n",
       "| 6600060120      | 20150223T000000 |  400000         | 4               | 2.50            | 2310            |  5813           | 2.0             | 0               | 0               | ...             |  8              | 2310            |    0            | 2014            | 0               | 98146           | 47.5107         | -122.362        | 1830            |  7200           |\n",
       "| 1523300141      | 20140623T000000 |  402101         | 2               | 0.75            | 1020            |  1350           | 2.0             | 0               | 0               | ...             |  7              | 1020            |    0            | 2009            | 0               | 98144           | 47.5944         | -122.299        | 1020            |  2007           |\n",
       "|  291310100      | 20150116T000000 |  400000         | 3               | 2.50            | 1600            |  2388           | 2.0             | 0               | 0               | ...             |  8              | 1600            |    0            | 2004            | 0               | 98027           | 47.5345         | -122.069        | 1410            |  1287           |\n",
       "| 1523300157      | 20141015T000000 |  325000         | 2               | 0.75            | 1020            |  1076           | 2.0             | 0               | 0               | ...             |  7              | 1020            |    0            | 2008            | 0               | 98144           | 47.5941         | -122.299        | 1020            |  1357           |\n",
       "\n"
      ],
      "text/plain": [
       "      id         date            price   bedrooms bathrooms sqft_living\n",
       "1     7129300520 20141013T000000  221900 3        1.00      1180       \n",
       "2     6414100192 20141209T000000  538000 3        2.25      2570       \n",
       "3     5631500400 20150225T000000  180000 2        1.00       770       \n",
       "4     2487200875 20141209T000000  604000 4        3.00      1960       \n",
       "5     1954400510 20150218T000000  510000 3        2.00      1680       \n",
       "6     7237550310 20140512T000000 1225000 4        4.50      5420       \n",
       "7     1321400060 20140627T000000  257500 3        2.25      1715       \n",
       "8     2008000270 20150115T000000  291850 3        1.50      1060       \n",
       "9     2414600126 20150415T000000  229500 3        1.00      1780       \n",
       "10    3793500160 20150312T000000  323000 3        2.50      1890       \n",
       "11    1736800520 20150403T000000  662500 3        2.50      3560       \n",
       "12    9212900260 20140527T000000  468000 2        1.00      1160       \n",
       "13     114101516 20140528T000000  310000 3        1.00      1430       \n",
       "14    6054650070 20141007T000000  400000 3        1.75      1370       \n",
       "15    1175000570 20150312T000000  530000 5        2.00      1810       \n",
       "16    9297300055 20150124T000000  650000 4        3.00      2950       \n",
       "17    1875500060 20140731T000000  395000 3        2.00      1890       \n",
       "18    6865200140 20140529T000000  485000 4        1.00      1600       \n",
       "19      16000397 20141205T000000  189000 2        1.00      1200       \n",
       "20    7983200060 20150424T000000  230000 3        1.00      1250       \n",
       "21    6300500875 20140514T000000  385000 4        1.75      1620       \n",
       "22    2524049179 20140826T000000 2000000 3        2.75      3050       \n",
       "23    7137970340 20140703T000000  285000 5        2.50      2270       \n",
       "24    8091400200 20140516T000000  252700 2        1.50      1070       \n",
       "25    3814700200 20141120T000000  329000 3        2.25      2450       \n",
       "26    1202000200 20141103T000000  233000 3        2.00      1710       \n",
       "27    1794500383 20140626T000000  937000 3        1.75      2450       \n",
       "28    3303700376 20141201T000000  667000 3        1.00      1400       \n",
       "29    5101402488 20140624T000000  438000 3        1.75      1520       \n",
       "30    1873100390 20150302T000000  719000 4        2.50      2570       \n",
       "...   ...        ...             ...     ...      ...       ...        \n",
       "21584 2025049203 20140610T000000  399950 2        1.00       710       \n",
       "21585  952006823 20141202T000000  380000 3        2.50      1260       \n",
       "21586 3832050760 20140828T000000  270000 3        2.50      1870       \n",
       "21587 2767604724 20141015T000000  505000 2        2.50      1430       \n",
       "21588 6632300207 20150305T000000  385000 3        2.50      1520       \n",
       "21589 2767600688 20141113T000000  414500 2        1.50      1210       \n",
       "21590 7570050450 20140910T000000  347500 3        2.50      2540       \n",
       "21591 7430200100 20140514T000000 1222500 4        3.50      4910       \n",
       "21592 4140940150 20141002T000000  572000 4        2.75      2770       \n",
       "21593 1931300412 20150416T000000  475000 3        2.25      1190       \n",
       "21594 8672200110 20150317T000000 1088000 5        3.75      4170       \n",
       "21595 5087900040 20141017T000000  350000 4        2.75      2500       \n",
       "21596 1972201967 20141031T000000  520000 2        2.25      1530       \n",
       "21597 7502800100 20140813T000000  679950 5        2.75      3600       \n",
       "21598  191100405 20150421T000000 1575000 4        3.25      3410       \n",
       "21599 8956200760 20141013T000000  541800 4        2.50      3118       \n",
       "21600 7202300110 20140915T000000  810000 4        3.00      3990       \n",
       "21601  249000205 20141015T000000 1537000 5        3.75      4470       \n",
       "21602 5100403806 20150407T000000  467000 3        2.50      1425       \n",
       "21603  844000965 20140626T000000  224000 3        1.75      1500       \n",
       "21604 7852140040 20140825T000000  507250 3        2.50      2270       \n",
       "21605 9834201367 20150126T000000  429000 3        2.00      1490       \n",
       "21606 3448900210 20141014T000000  610685 4        2.50      2520       \n",
       "21607 7936000429 20150326T000000 1007500 4        3.50      3510       \n",
       "21608 2997800021 20150219T000000  475000 3        2.50      1310       \n",
       "21609  263000018 20140521T000000  360000 3        2.50      1530       \n",
       "21610 6600060120 20150223T000000  400000 4        2.50      2310       \n",
       "21611 1523300141 20140623T000000  402101 2        0.75      1020       \n",
       "21612  291310100 20150116T000000  400000 3        2.50      1600       \n",
       "21613 1523300157 20141015T000000  325000 2        0.75      1020       \n",
       "      sqft_lot floors waterfront view ... grade sqft_above sqft_basement\n",
       "1       5650   1.0    0          0    ...  7    1180          0         \n",
       "2       7242   2.0    0          0    ...  7    2170        400         \n",
       "3      10000   1.0    0          0    ...  6     770          0         \n",
       "4       5000   1.0    0          0    ...  7    1050        910         \n",
       "5       8080   1.0    0          0    ...  8    1680          0         \n",
       "6     101930   1.0    0          0    ... 11    3890       1530         \n",
       "7       6819   2.0    0          0    ...  7    1715          0         \n",
       "8       9711   1.0    0          0    ...  7    1060          0         \n",
       "9       7470   1.0    0          0    ...  7    1050        730         \n",
       "10      6560   2.0    0          0    ...  7    1890          0         \n",
       "11      9796   1.0    0          0    ...  8    1860       1700         \n",
       "12      6000   1.0    0          0    ...  7     860        300         \n",
       "13     19901   1.5    0          0    ...  7    1430          0         \n",
       "14      9680   1.0    0          0    ...  7    1370          0         \n",
       "15      4850   1.5    0          0    ...  7    1810          0         \n",
       "16      5000   2.0    0          3    ...  9    1980        970         \n",
       "17     14040   2.0    0          0    ...  7    1890          0         \n",
       "18      4300   1.5    0          0    ...  7    1600          0         \n",
       "19      9850   1.0    0          0    ...  7    1200          0         \n",
       "20      9774   1.0    0          0    ...  7    1250          0         \n",
       "21      4980   1.0    0          0    ...  7     860        760         \n",
       "22     44867   1.0    0          4    ...  9    2330        720         \n",
       "23      6300   2.0    0          0    ...  8    2270          0         \n",
       "24      9643   1.0    0          0    ...  7    1070          0         \n",
       "25      6500   2.0    0          0    ...  8    2450          0         \n",
       "26      4697   1.5    0          0    ...  6    1710          0         \n",
       "27      2691   2.0    0          0    ...  8    1750        700         \n",
       "28      1581   1.5    0          0    ...  8    1400          0         \n",
       "29      6380   1.0    0          0    ...  7     790        730         \n",
       "30      7173   2.0    0          0    ...  8    2570          0         \n",
       "...   ...      ...    ...        ...      ...   ...        ...          \n",
       "21584  1157    2.0    0          0    ...  7     710          0         \n",
       "21585   900    2.0    0          0    ...  7     940        320         \n",
       "21586  5000    2.0    0          0    ...  7    1870          0         \n",
       "21587  1201    3.0    0          0    ...  8    1430          0         \n",
       "21588  1488    3.0    0          0    ...  8    1520          0         \n",
       "21589  1278    2.0    0          0    ...  8    1020        190         \n",
       "21590  4760    2.0    0          0    ...  8    2540          0         \n",
       "21591  9444    1.5    0          0    ... 11    3110       1800         \n",
       "21592  3852    2.0    0          0    ...  8    2770          0         \n",
       "21593  1200    3.0    0          0    ...  8    1190          0         \n",
       "21594  8142    2.0    0          2    ... 10    4170          0         \n",
       "21595  5995    2.0    0          0    ...  8    2500          0         \n",
       "21596   981    3.0    0          0    ...  8    1480         50         \n",
       "21597  9437    2.0    0          0    ...  9    3600          0         \n",
       "21598 10125    2.0    0          0    ... 10    3410          0         \n",
       "21599  7866    2.0    0          2    ...  9    3118          0         \n",
       "21600  7838    2.0    0          0    ...  9    3990          0         \n",
       "21601  8088    2.0    0          0    ... 11    4470          0         \n",
       "21602  1179    3.0    0          0    ...  8    1425          0         \n",
       "21603 11968    1.0    0          0    ...  6    1500          0         \n",
       "21604  5536    2.0    0          0    ...  8    2270          0         \n",
       "21605  1126    3.0    0          0    ...  8    1490          0         \n",
       "21606  6023    2.0    0          0    ...  9    2520          0         \n",
       "21607  7200    2.0    0          0    ...  9    2600        910         \n",
       "21608  1294    2.0    0          0    ...  8    1180        130         \n",
       "21609  1131    3.0    0          0    ...  8    1530          0         \n",
       "21610  5813    2.0    0          0    ...  8    2310          0         \n",
       "21611  1350    2.0    0          0    ...  7    1020          0         \n",
       "21612  2388    2.0    0          0    ...  8    1600          0         \n",
       "21613  1076    2.0    0          0    ...  7    1020          0         \n",
       "      yr_built yr_renovated zipcode lat     long     sqft_living15 sqft_lot15\n",
       "1     1955        0         98178   47.5112 -122.257 1340            5650    \n",
       "2     1951     1991         98125   47.7210 -122.319 1690            7639    \n",
       "3     1933        0         98028   47.7379 -122.233 2720            8062    \n",
       "4     1965        0         98136   47.5208 -122.393 1360            5000    \n",
       "5     1987        0         98074   47.6168 -122.045 1800            7503    \n",
       "6     2001        0         98053   47.6561 -122.005 4760          101930    \n",
       "7     1995        0         98003   47.3097 -122.327 2238            6819    \n",
       "8     1963        0         98198   47.4095 -122.315 1650            9711    \n",
       "9     1960        0         98146   47.5123 -122.337 1780            8113    \n",
       "10    2003        0         98038   47.3684 -122.031 2390            7570    \n",
       "11    1965        0         98007   47.6007 -122.145 2210            8925    \n",
       "12    1942        0         98115   47.6900 -122.292 1330            6000    \n",
       "13    1927        0         98028   47.7558 -122.229 1780           12697    \n",
       "14    1977        0         98074   47.6127 -122.045 1370           10208    \n",
       "15    1900        0         98107   47.6700 -122.394 1360            4850    \n",
       "16    1979        0         98126   47.5714 -122.375 2140            4000    \n",
       "17    1994        0         98019   47.7277 -121.962 1890           14018    \n",
       "18    1916        0         98103   47.6648 -122.343 1610            4300    \n",
       "19    1921        0         98002   47.3089 -122.210 1060            5095    \n",
       "20    1969        0         98003   47.3343 -122.306 1280            8850    \n",
       "21    1947        0         98133   47.7025 -122.341 1400            4980    \n",
       "22    1968        0         98040   47.5316 -122.233 4110           20336    \n",
       "23    1995        0         98092   47.3266 -122.169 2240            7005    \n",
       "24    1985        0         98030   47.3533 -122.166 1220            8386    \n",
       "25    1985        0         98030   47.3739 -122.172 2200            6865    \n",
       "26    1941        0         98002   47.3048 -122.218 1030            4705    \n",
       "27    1915        0         98119   47.6386 -122.360 1760            3573    \n",
       "28    1909        0         98112   47.6221 -122.314 1860            3861    \n",
       "29    1948        0         98115   47.6950 -122.304 1520            6235    \n",
       "30    2005        0         98052   47.7073 -122.110 2630            6026    \n",
       "...   ...      ...          ...     ...     ...      ...           ...       \n",
       "21584 1943     0            98102   47.6413 -122.329 1370           1173     \n",
       "21585 2007     0            98116   47.5621 -122.384 1310           1415     \n",
       "21586 2009     0            98042   47.3339 -122.055 2170           5399     \n",
       "21587 2009     0            98107   47.6707 -122.381 1430           1249     \n",
       "21588 2006     0            98125   47.7337 -122.309 1520           1497     \n",
       "21589 2007     0            98117   47.6756 -122.375 1210           1118     \n",
       "21590 2010     0            98038   47.3452 -122.022 2540           4571     \n",
       "21591 2007     0            98074   47.6502 -122.066 4560          11063     \n",
       "21592 2014     0            98178   47.5001 -122.232 1810           5641     \n",
       "21593 2008     0            98103   47.6542 -122.346 1180           1224     \n",
       "21594 2006     0            98056   47.5354 -122.181 3030           7980     \n",
       "21595 2008     0            98042   47.3749 -122.107 2530           5988     \n",
       "21596 2006     0            98103   47.6533 -122.346 1530           1282     \n",
       "21597 2014     0            98059   47.4822 -122.131 3550           9421     \n",
       "21598 2007     0            98040   47.5653 -122.223 2290          10125     \n",
       "21599 2014     0            98001   47.2931 -122.264 2673           6500     \n",
       "21600 2003     0            98053   47.6857 -122.046 3370           6814     \n",
       "21601 2008     0            98004   47.6321 -122.200 2780           8964     \n",
       "21602 2008     0            98125   47.6963 -122.318 1285           1253     \n",
       "21603 2014     0            98010   47.3095 -122.002 1320          11303     \n",
       "21604 2003     0            98065   47.5389 -121.881 2270           5731     \n",
       "21605 2014     0            98144   47.5699 -122.288 1400           1230     \n",
       "21606 2014     0            98056   47.5137 -122.167 2520           6023     \n",
       "21607 2009     0            98136   47.5537 -122.398 2050           6200     \n",
       "21608 2008     0            98116   47.5773 -122.409 1330           1265     \n",
       "21609 2009     0            98103   47.6993 -122.346 1530           1509     \n",
       "21610 2014     0            98146   47.5107 -122.362 1830           7200     \n",
       "21611 2009     0            98144   47.5944 -122.299 1020           2007     \n",
       "21612 2004     0            98027   47.5345 -122.069 1410           1287     \n",
       "21613 2008     0            98144   47.5941 -122.299 1020           1357     "
      ]
     },
     "metadata": {},
     "output_type": "display_data"
    }
   ],
   "source": [
    "rmarkdown::paged_table(house)"
   ]
  },
  {
   "cell_type": "code",
   "execution_count": 14,
   "id": "baf7c881",
   "metadata": {},
   "outputs": [],
   "source": [
    "library(dplyr)"
   ]
  },
  {
   "cell_type": "code",
   "execution_count": 15,
   "id": "9f0859fc",
   "metadata": {},
   "outputs": [],
   "source": [
    "house <- house %>% \n",
    "  select(-id,-date)"
   ]
  },
  {
   "cell_type": "code",
   "execution_count": 16,
   "id": "8726c5c3",
   "metadata": {},
   "outputs": [],
   "source": [
    "house <- house %>% \n",
    "  mutate(bathrooms = as.integer(bathrooms)) %>% \n",
    "  mutate(floors = as.integer(floors))"
   ]
  },
  {
   "cell_type": "code",
   "execution_count": 17,
   "id": "199e8f97",
   "metadata": {},
   "outputs": [
    {
     "data": {
      "text/html": [
       "<dl class=dl-horizontal>\n",
       "\t<dt>price</dt>\n",
       "\t\t<dd>0</dd>\n",
       "\t<dt>bedrooms</dt>\n",
       "\t\t<dd>0</dd>\n",
       "\t<dt>bathrooms</dt>\n",
       "\t\t<dd>0</dd>\n",
       "\t<dt>sqft_living</dt>\n",
       "\t\t<dd>0</dd>\n",
       "\t<dt>sqft_lot</dt>\n",
       "\t\t<dd>0</dd>\n",
       "\t<dt>floors</dt>\n",
       "\t\t<dd>0</dd>\n",
       "\t<dt>waterfront</dt>\n",
       "\t\t<dd>0</dd>\n",
       "\t<dt>view</dt>\n",
       "\t\t<dd>0</dd>\n",
       "\t<dt>condition</dt>\n",
       "\t\t<dd>0</dd>\n",
       "\t<dt>grade</dt>\n",
       "\t\t<dd>0</dd>\n",
       "\t<dt>sqft_above</dt>\n",
       "\t\t<dd>0</dd>\n",
       "\t<dt>sqft_basement</dt>\n",
       "\t\t<dd>0</dd>\n",
       "\t<dt>yr_built</dt>\n",
       "\t\t<dd>0</dd>\n",
       "\t<dt>yr_renovated</dt>\n",
       "\t\t<dd>0</dd>\n",
       "\t<dt>zipcode</dt>\n",
       "\t\t<dd>0</dd>\n",
       "\t<dt>lat</dt>\n",
       "\t\t<dd>0</dd>\n",
       "\t<dt>long</dt>\n",
       "\t\t<dd>0</dd>\n",
       "\t<dt>sqft_living15</dt>\n",
       "\t\t<dd>0</dd>\n",
       "\t<dt>sqft_lot15</dt>\n",
       "\t\t<dd>0</dd>\n",
       "</dl>\n"
      ],
      "text/latex": [
       "\\begin{description*}\n",
       "\\item[price] 0\n",
       "\\item[bedrooms] 0\n",
       "\\item[bathrooms] 0\n",
       "\\item[sqft\\textbackslash{}\\_living] 0\n",
       "\\item[sqft\\textbackslash{}\\_lot] 0\n",
       "\\item[floors] 0\n",
       "\\item[waterfront] 0\n",
       "\\item[view] 0\n",
       "\\item[condition] 0\n",
       "\\item[grade] 0\n",
       "\\item[sqft\\textbackslash{}\\_above] 0\n",
       "\\item[sqft\\textbackslash{}\\_basement] 0\n",
       "\\item[yr\\textbackslash{}\\_built] 0\n",
       "\\item[yr\\textbackslash{}\\_renovated] 0\n",
       "\\item[zipcode] 0\n",
       "\\item[lat] 0\n",
       "\\item[long] 0\n",
       "\\item[sqft\\textbackslash{}\\_living15] 0\n",
       "\\item[sqft\\textbackslash{}\\_lot15] 0\n",
       "\\end{description*}\n"
      ],
      "text/markdown": [
       "price\n",
       ":   0bedrooms\n",
       ":   0bathrooms\n",
       ":   0sqft_living\n",
       ":   0sqft_lot\n",
       ":   0floors\n",
       ":   0waterfront\n",
       ":   0view\n",
       ":   0condition\n",
       ":   0grade\n",
       ":   0sqft_above\n",
       ":   0sqft_basement\n",
       ":   0yr_built\n",
       ":   0yr_renovated\n",
       ":   0zipcode\n",
       ":   0lat\n",
       ":   0long\n",
       ":   0sqft_living15\n",
       ":   0sqft_lot15\n",
       ":   0\n",
       "\n"
      ],
      "text/plain": [
       "        price      bedrooms     bathrooms   sqft_living      sqft_lot \n",
       "            0             0             0             0             0 \n",
       "       floors    waterfront          view     condition         grade \n",
       "            0             0             0             0             0 \n",
       "   sqft_above sqft_basement      yr_built  yr_renovated       zipcode \n",
       "            0             0             0             0             0 \n",
       "          lat          long sqft_living15    sqft_lot15 \n",
       "            0             0             0             0 "
      ]
     },
     "metadata": {},
     "output_type": "display_data"
    }
   ],
   "source": [
    "colSums(is.na(house))"
   ]
  },
  {
   "cell_type": "code",
   "execution_count": 18,
   "id": "5f6b65ec",
   "metadata": {},
   "outputs": [
    {
     "data": {
      "text/plain": [
       "     price            bedrooms        bathrooms     sqft_living   \n",
       " Min.   :  75000   Min.   : 0.000   Min.   :0.00   Min.   :  290  \n",
       " 1st Qu.: 321950   1st Qu.: 3.000   1st Qu.:1.00   1st Qu.: 1427  \n",
       " Median : 450000   Median : 3.000   Median :2.00   Median : 1910  \n",
       " Mean   : 540088   Mean   : 3.371   Mean   :1.75   Mean   : 2080  \n",
       " 3rd Qu.: 645000   3rd Qu.: 4.000   3rd Qu.:2.00   3rd Qu.: 2550  \n",
       " Max.   :7700000   Max.   :33.000   Max.   :8.00   Max.   :13540  \n",
       "    sqft_lot           floors        waterfront            view       \n",
       " Min.   :    520   Min.   :1.000   Min.   :0.000000   Min.   :0.0000  \n",
       " 1st Qu.:   5040   1st Qu.:1.000   1st Qu.:0.000000   1st Qu.:0.0000  \n",
       " Median :   7618   Median :1.000   Median :0.000000   Median :0.0000  \n",
       " Mean   :  15107   Mean   :1.446   Mean   :0.007542   Mean   :0.2343  \n",
       " 3rd Qu.:  10688   3rd Qu.:2.000   3rd Qu.:0.000000   3rd Qu.:0.0000  \n",
       " Max.   :1651359   Max.   :3.000   Max.   :1.000000   Max.   :4.0000  \n",
       "   condition         grade          sqft_above   sqft_basement   \n",
       " Min.   :1.000   Min.   : 1.000   Min.   : 290   Min.   :   0.0  \n",
       " 1st Qu.:3.000   1st Qu.: 7.000   1st Qu.:1190   1st Qu.:   0.0  \n",
       " Median :3.000   Median : 7.000   Median :1560   Median :   0.0  \n",
       " Mean   :3.409   Mean   : 7.657   Mean   :1788   Mean   : 291.5  \n",
       " 3rd Qu.:4.000   3rd Qu.: 8.000   3rd Qu.:2210   3rd Qu.: 560.0  \n",
       " Max.   :5.000   Max.   :13.000   Max.   :9410   Max.   :4820.0  \n",
       "    yr_built     yr_renovated       zipcode           lat       \n",
       " Min.   :1900   Min.   :   0.0   Min.   :98001   Min.   :47.16  \n",
       " 1st Qu.:1951   1st Qu.:   0.0   1st Qu.:98033   1st Qu.:47.47  \n",
       " Median :1975   Median :   0.0   Median :98065   Median :47.57  \n",
       " Mean   :1971   Mean   :  84.4   Mean   :98078   Mean   :47.56  \n",
       " 3rd Qu.:1997   3rd Qu.:   0.0   3rd Qu.:98118   3rd Qu.:47.68  \n",
       " Max.   :2015   Max.   :2015.0   Max.   :98199   Max.   :47.78  \n",
       "      long        sqft_living15    sqft_lot15    \n",
       " Min.   :-122.5   Min.   : 399   Min.   :   651  \n",
       " 1st Qu.:-122.3   1st Qu.:1490   1st Qu.:  5100  \n",
       " Median :-122.2   Median :1840   Median :  7620  \n",
       " Mean   :-122.2   Mean   :1987   Mean   : 12768  \n",
       " 3rd Qu.:-122.1   3rd Qu.:2360   3rd Qu.: 10083  \n",
       " Max.   :-121.3   Max.   :6210   Max.   :871200  "
      ]
     },
     "metadata": {},
     "output_type": "display_data"
    }
   ],
   "source": [
    "summary(house)"
   ]
  },
  {
   "cell_type": "code",
   "execution_count": 19,
   "id": "09803e3b",
   "metadata": {},
   "outputs": [
    {
     "ename": "ERROR",
     "evalue": "Error in library(GGally): there is no package called 'GGally'\n",
     "output_type": "error",
     "traceback": [
      "Error in library(GGally): there is no package called 'GGally'\nTraceback:\n",
      "1. library(GGally)"
     ]
    }
   ],
   "source": [
    "library(GGally)"
   ]
  },
  {
   "cell_type": "code",
   "execution_count": 1,
   "id": "85f13d02",
   "metadata": {},
   "outputs": [
    {
     "name": "stderr",
     "output_type": "stream",
     "text": [
      "Installing package into 'C:/Users/Asus/Documents/R/win-library/3.6'\n",
      "(as 'lib' is unspecified)\n",
      "also installing the dependencies 'cli', 'lifecycle', 'rlang', 'vctrs', 'ggplot2', 'scales'\n",
      "\n"
     ]
    },
    {
     "name": "stdout",
     "output_type": "stream",
     "text": [
      "\n",
      "  There are binary versions available but the source versions are later:\n",
      "          binary source needs_compilation\n",
      "cli        2.5.0  3.4.1              TRUE\n",
      "lifecycle  1.0.0  1.0.3             FALSE\n",
      "rlang     0.4.11  1.0.6              TRUE\n",
      "vctrs      0.3.8  0.5.1              TRUE\n",
      "ggplot2    3.3.3  3.4.0             FALSE\n",
      "scales     1.1.1  1.2.1             FALSE\n",
      "GGally     2.1.1  2.1.2             FALSE\n",
      "\n",
      "  Binaries will be installed\n",
      "package 'cli' successfully unpacked and MD5 sums checked\n",
      "package 'rlang' successfully unpacked and MD5 sums checked\n"
     ]
    },
    {
     "name": "stderr",
     "output_type": "stream",
     "text": [
      "Warning message:\n",
      "\"cannot remove prior installation of package 'rlang'\"Warning message in file.copy(savedcopy, lib, recursive = TRUE):\n",
      "\"problem copying C:\\Users\\Asus\\Documents\\R\\win-library\\3.6\\00LOCK\\rlang\\libs\\x64\\rlang.dll to C:\\Users\\Asus\\Documents\\R\\win-library\\3.6\\rlang\\libs\\x64\\rlang.dll: Permission denied\"Warning message:\n",
      "\"restored 'rlang'\""
     ]
    },
    {
     "name": "stdout",
     "output_type": "stream",
     "text": [
      "package 'vctrs' successfully unpacked and MD5 sums checked\n",
      "\n",
      "The downloaded binary packages are in\n",
      "\tC:\\Users\\Asus\\AppData\\Local\\Temp\\Rtmpe62LoP\\downloaded_packages\n"
     ]
    },
    {
     "name": "stderr",
     "output_type": "stream",
     "text": [
      "installing the source packages 'lifecycle', 'ggplot2', 'scales', 'GGally'\n",
      "\n",
      "Warning message in install.packages(\"GGally\"):\n",
      "\"installation of package 'lifecycle' had non-zero exit status\"Warning message in install.packages(\"GGally\"):\n",
      "\"installation of package 'scales' had non-zero exit status\"Warning message in install.packages(\"GGally\"):\n",
      "\"installation of package 'ggplot2' had non-zero exit status\"Warning message in install.packages(\"GGally\"):\n",
      "\"installation of package 'GGally' had non-zero exit status\""
     ]
    }
   ],
   "source": [
    "install.packages(\"GGally\")"
   ]
  },
  {
   "cell_type": "code",
   "execution_count": 12,
   "id": "e9f88854",
   "metadata": {},
   "outputs": [
    {
     "ename": "ERROR",
     "evalue": "Error in ggcorr(data = house, label = T, size = 3, label_size = 3, hjust = 0.95, : could not find function \"ggcorr\"\n",
     "output_type": "error",
     "traceback": [
      "Error in ggcorr(data = house, label = T, size = 3, label_size = 3, hjust = 0.95, : could not find function \"ggcorr\"\nTraceback:\n"
     ]
    }
   ],
   "source": [
    "ggcorr(data = house, label = T, size = 3, label_size= 3,hjust = 0.95, layout.exp = 2) +\n",
    "  labs(\n",
    "    title = \"Dataset Correlation Matrix\"\n",
    "  )+\n",
    "  theme_minimal()+\n",
    "  theme(\n",
    "    plot.title = element_text(hjust = 0.5),\n",
    "    axis.title = element_text(size = 8, face=\"bold\"),\n",
    "    axis.text.y = element_blank()\n",
    "  )"
   ]
  },
  {
   "cell_type": "code",
   "execution_count": 13,
   "id": "a4d9cb13",
   "metadata": {},
   "outputs": [
    {
     "ename": "ERROR",
     "evalue": "Error in library(GGally): there is no package called 'GGally'\n",
     "output_type": "error",
     "traceback": [
      "Error in library(GGally): there is no package called 'GGally'\nTraceback:\n",
      "1. library(GGally)"
     ]
    }
   ],
   "source": [
    "library(GGally)"
   ]
  },
  {
   "cell_type": "code",
   "execution_count": 14,
   "id": "e682b93e",
   "metadata": {},
   "outputs": [
    {
     "name": "stderr",
     "output_type": "stream",
     "text": [
      "Installing package into 'C:/Users/Asus/Documents/R/win-library/3.6'\n",
      "(as 'lib' is unspecified)\n",
      "also installing the dependencies 'cli', 'lifecycle', 'rlang', 'vctrs', 'ggplot2', 'scales'\n",
      "\n"
     ]
    },
    {
     "name": "stdout",
     "output_type": "stream",
     "text": [
      "\n",
      "  There are binary versions available but the source versions are later:\n",
      "          binary source needs_compilation\n",
      "cli        2.5.0  3.4.1              TRUE\n",
      "lifecycle  1.0.0  1.0.3             FALSE\n",
      "rlang     0.4.11  1.0.6              TRUE\n",
      "vctrs      0.3.8  0.5.1              TRUE\n",
      "ggplot2    3.3.3  3.4.0             FALSE\n",
      "scales     1.1.1  1.2.1             FALSE\n",
      "GGally     2.1.1  2.1.2             FALSE\n",
      "\n",
      "  Binaries will be installed\n",
      "package 'cli' successfully unpacked and MD5 sums checked\n",
      "package 'rlang' successfully unpacked and MD5 sums checked\n"
     ]
    },
    {
     "name": "stderr",
     "output_type": "stream",
     "text": [
      "Warning message:\n",
      "\"cannot remove prior installation of package 'rlang'\"Warning message in file.copy(savedcopy, lib, recursive = TRUE):\n",
      "\"problem copying C:\\Users\\Asus\\Documents\\R\\win-library\\3.6\\00LOCK\\rlang\\libs\\x64\\rlang.dll to C:\\Users\\Asus\\Documents\\R\\win-library\\3.6\\rlang\\libs\\x64\\rlang.dll: Permission denied\"Warning message:\n",
      "\"restored 'rlang'\""
     ]
    },
    {
     "name": "stdout",
     "output_type": "stream",
     "text": [
      "package 'vctrs' successfully unpacked and MD5 sums checked\n"
     ]
    },
    {
     "name": "stderr",
     "output_type": "stream",
     "text": [
      "Warning message:\n",
      "\"cannot remove prior installation of package 'vctrs'\"Warning message in file.copy(savedcopy, lib, recursive = TRUE):\n",
      "\"problem copying C:\\Users\\Asus\\Documents\\R\\win-library\\3.6\\00LOCK\\vctrs\\libs\\x64\\vctrs.dll to C:\\Users\\Asus\\Documents\\R\\win-library\\3.6\\vctrs\\libs\\x64\\vctrs.dll: Permission denied\"Warning message:\n",
      "\"restored 'vctrs'\""
     ]
    },
    {
     "name": "stdout",
     "output_type": "stream",
     "text": [
      "\n",
      "The downloaded binary packages are in\n",
      "\tC:\\Users\\Asus\\AppData\\Local\\Temp\\Rtmp21Ls9N\\downloaded_packages\n"
     ]
    },
    {
     "name": "stderr",
     "output_type": "stream",
     "text": [
      "installing the source packages 'lifecycle', 'ggplot2', 'scales', 'GGally'\n",
      "\n",
      "Warning message in install.packages(\"GGally\"):\n",
      "\"installation of package 'lifecycle' had non-zero exit status\"Warning message in install.packages(\"GGally\"):\n",
      "\"installation of package 'scales' had non-zero exit status\"Warning message in install.packages(\"GGally\"):\n",
      "\"installation of package 'ggplot2' had non-zero exit status\"Warning message in install.packages(\"GGally\"):\n",
      "\"installation of package 'GGally' had non-zero exit status\""
     ]
    }
   ],
   "source": [
    "install.packages(\"GGally\")"
   ]
  },
  {
   "cell_type": "code",
   "execution_count": 15,
   "id": "27bd4289",
   "metadata": {},
   "outputs": [
    {
     "ename": "ERROR",
     "evalue": "Error in library(GGally): there is no package called 'GGally'\n",
     "output_type": "error",
     "traceback": [
      "Error in library(GGally): there is no package called 'GGally'\nTraceback:\n",
      "1. library(GGally)"
     ]
    }
   ],
   "source": [
    "library(GGally)"
   ]
  },
  {
   "cell_type": "code",
   "execution_count": 16,
   "id": "fe72bb65",
   "metadata": {},
   "outputs": [
    {
     "name": "stderr",
     "output_type": "stream",
     "text": [
      "Installing package into 'C:/Users/Asus/Documents/R/win-library/3.6'\n",
      "(as 'lib' is unspecified)\n",
      "also installing the dependencies 'cli', 'lifecycle', 'rlang', 'vctrs', 'ggplot2', 'scales'\n",
      "\n"
     ]
    },
    {
     "name": "stdout",
     "output_type": "stream",
     "text": [
      "\n",
      "  There are binary versions available but the source versions are later:\n",
      "          binary source needs_compilation\n",
      "cli        2.5.0  3.4.1              TRUE\n",
      "lifecycle  1.0.0  1.0.3             FALSE\n",
      "rlang     0.4.11  1.0.6              TRUE\n",
      "vctrs      0.3.8  0.5.1              TRUE\n",
      "ggplot2    3.3.3  3.4.0             FALSE\n",
      "scales     1.1.1  1.2.1             FALSE\n",
      "GGally     2.1.1  2.1.2             FALSE\n",
      "\n",
      "  Binaries will be installed\n",
      "package 'cli' successfully unpacked and MD5 sums checked\n",
      "package 'rlang' successfully unpacked and MD5 sums checked\n"
     ]
    },
    {
     "name": "stderr",
     "output_type": "stream",
     "text": [
      "Warning message:\n",
      "\"cannot remove prior installation of package 'rlang'\"Warning message in file.copy(savedcopy, lib, recursive = TRUE):\n",
      "\"problem copying C:\\Users\\Asus\\Documents\\R\\win-library\\3.6\\00LOCK\\rlang\\libs\\x64\\rlang.dll to C:\\Users\\Asus\\Documents\\R\\win-library\\3.6\\rlang\\libs\\x64\\rlang.dll: Permission denied\"Warning message:\n",
      "\"restored 'rlang'\""
     ]
    },
    {
     "name": "stdout",
     "output_type": "stream",
     "text": [
      "package 'vctrs' successfully unpacked and MD5 sums checked\n"
     ]
    },
    {
     "name": "stderr",
     "output_type": "stream",
     "text": [
      "Warning message:\n",
      "\"cannot remove prior installation of package 'vctrs'\"Warning message in file.copy(savedcopy, lib, recursive = TRUE):\n",
      "\"problem copying C:\\Users\\Asus\\Documents\\R\\win-library\\3.6\\00LOCK\\vctrs\\libs\\x64\\vctrs.dll to C:\\Users\\Asus\\Documents\\R\\win-library\\3.6\\vctrs\\libs\\x64\\vctrs.dll: Permission denied\"Warning message:\n",
      "\"restored 'vctrs'\""
     ]
    },
    {
     "name": "stdout",
     "output_type": "stream",
     "text": [
      "\n",
      "The downloaded binary packages are in\n",
      "\tC:\\Users\\Asus\\AppData\\Local\\Temp\\Rtmp21Ls9N\\downloaded_packages\n"
     ]
    },
    {
     "name": "stderr",
     "output_type": "stream",
     "text": [
      "installing the source packages 'lifecycle', 'ggplot2', 'scales', 'GGally'\n",
      "\n",
      "Warning message in install.packages(\"GGally\", repos = \"http://cran.us.r-project.org\"):\n",
      "\"installation of package 'lifecycle' had non-zero exit status\"Warning message in install.packages(\"GGally\", repos = \"http://cran.us.r-project.org\"):\n",
      "\"installation of package 'scales' had non-zero exit status\"Warning message in install.packages(\"GGally\", repos = \"http://cran.us.r-project.org\"):\n",
      "\"installation of package 'ggplot2' had non-zero exit status\"Warning message in install.packages(\"GGally\", repos = \"http://cran.us.r-project.org\"):\n",
      "\"installation of package 'GGally' had non-zero exit status\""
     ]
    }
   ],
   "source": [
    "install.packages(\"GGally\", repos = 'http://cran.us.r-project.org')"
   ]
  },
  {
   "cell_type": "code",
   "execution_count": 17,
   "id": "1f7acfaf",
   "metadata": {},
   "outputs": [
    {
     "ename": "ERROR",
     "evalue": "Error in library(GGally): there is no package called 'GGally'\n",
     "output_type": "error",
     "traceback": [
      "Error in library(GGally): there is no package called 'GGally'\nTraceback:\n",
      "1. library(GGally)"
     ]
    }
   ],
   "source": [
    "library(GGally)"
   ]
  },
  {
   "cell_type": "code",
   "execution_count": 18,
   "id": "d9bfa663",
   "metadata": {},
   "outputs": [
    {
     "ename": "ERROR",
     "evalue": "Error in library(ggplot): there is no package called 'ggplot'\n",
     "output_type": "error",
     "traceback": [
      "Error in library(ggplot): there is no package called 'ggplot'\nTraceback:\n",
      "1. library(ggplot)"
     ]
    }
   ],
   "source": [
    "library(ggplot)"
   ]
  },
  {
   "cell_type": "code",
   "execution_count": 19,
   "id": "6497a3ee",
   "metadata": {},
   "outputs": [
    {
     "ename": "ERROR",
     "evalue": "Error in eval(expr, envir, enclos): object '.libpath' not found\n",
     "output_type": "error",
     "traceback": [
      "Error in eval(expr, envir, enclos): object '.libpath' not found\nTraceback:\n"
     ]
    }
   ],
   "source": [
    ".libpath"
   ]
  },
  {
   "cell_type": "code",
   "execution_count": 20,
   "id": "f759e710",
   "metadata": {},
   "outputs": [
    {
     "data": {
      "text/html": [
       "<ol class=list-inline>\n",
       "\t<li>'C:/Users/Asus/Documents/R/win-library/3.6'</li>\n",
       "\t<li>'C:/ProgramData/Anaconda3/envs/mani_r_prorgam/Lib/R/library'</li>\n",
       "</ol>\n"
      ],
      "text/latex": [
       "\\begin{enumerate*}\n",
       "\\item 'C:/Users/Asus/Documents/R/win-library/3.6'\n",
       "\\item 'C:/ProgramData/Anaconda3/envs/mani\\_r\\_prorgam/Lib/R/library'\n",
       "\\end{enumerate*}\n"
      ],
      "text/markdown": [
       "1. 'C:/Users/Asus/Documents/R/win-library/3.6'\n",
       "2. 'C:/ProgramData/Anaconda3/envs/mani_r_prorgam/Lib/R/library'\n",
       "\n",
       "\n"
      ],
      "text/plain": [
       "[1] \"C:/Users/Asus/Documents/R/win-library/3.6\"                 \n",
       "[2] \"C:/ProgramData/Anaconda3/envs/mani_r_prorgam/Lib/R/library\""
      ]
     },
     "metadata": {},
     "output_type": "display_data"
    }
   ],
   "source": [
    ".libPaths()"
   ]
  },
  {
   "cell_type": "code",
   "execution_count": 21,
   "id": "e69a51a1",
   "metadata": {},
   "outputs": [],
   "source": [
    "lib_path <- 'C:/ProgramData/Anaconda3/envs/mani_r_prorgam/Lib/R/library'"
   ]
  },
  {
   "cell_type": "code",
   "execution_count": 22,
   "id": "9ddb59d7",
   "metadata": {},
   "outputs": [
    {
     "data": {
      "text/html": [
       "'C:/ProgramData/Anaconda3/envs/mani_r_prorgam/Lib/R/library'"
      ],
      "text/latex": [
       "'C:/ProgramData/Anaconda3/envs/mani\\_r\\_prorgam/Lib/R/library'"
      ],
      "text/markdown": [
       "'C:/ProgramData/Anaconda3/envs/mani_r_prorgam/Lib/R/library'"
      ],
      "text/plain": [
       "[1] \"C:/ProgramData/Anaconda3/envs/mani_r_prorgam/Lib/R/library\""
      ]
     },
     "metadata": {},
     "output_type": "display_data"
    }
   ],
   "source": [
    "lib_path"
   ]
  },
  {
   "cell_type": "code",
   "execution_count": 23,
   "id": "6fe75222",
   "metadata": {},
   "outputs": [
    {
     "name": "stderr",
     "output_type": "stream",
     "text": [
      "also installing the dependencies 'cli', 'lifecycle', 'rlang', 'vctrs', 'ggplot2', 'scales'\n",
      "\n"
     ]
    },
    {
     "name": "stdout",
     "output_type": "stream",
     "text": [
      "\n",
      "  There are binary versions available but the source versions are later:\n",
      "          binary source needs_compilation\n",
      "cli        2.5.0  3.4.1              TRUE\n",
      "lifecycle  1.0.0  1.0.3             FALSE\n",
      "rlang     0.4.11  1.0.6              TRUE\n",
      "vctrs      0.3.8  0.5.1              TRUE\n",
      "ggplot2    3.3.3  3.4.0             FALSE\n",
      "scales     1.1.1  1.2.1             FALSE\n",
      "GGally     2.1.1  2.1.2             FALSE\n",
      "\n",
      "  Binaries will be installed\n",
      "package 'cli' successfully unpacked and MD5 sums checked\n",
      "package 'rlang' successfully unpacked and MD5 sums checked\n",
      "package 'vctrs' successfully unpacked and MD5 sums checked\n",
      "\n",
      "The downloaded binary packages are in\n",
      "\tC:\\Users\\Asus\\AppData\\Local\\Temp\\Rtmp21Ls9N\\downloaded_packages\n"
     ]
    },
    {
     "name": "stderr",
     "output_type": "stream",
     "text": [
      "installing the source packages 'lifecycle', 'ggplot2', 'scales', 'GGally'\n",
      "\n",
      "Warning message in install.packages(\"GGally\", lib = lib_path):\n",
      "\"installation of package 'lifecycle' had non-zero exit status\"Warning message in install.packages(\"GGally\", lib = lib_path):\n",
      "\"installation of package 'scales' had non-zero exit status\"Warning message in install.packages(\"GGally\", lib = lib_path):\n",
      "\"installation of package 'ggplot2' had non-zero exit status\"Warning message in install.packages(\"GGally\", lib = lib_path):\n",
      "\"installation of package 'GGally' had non-zero exit status\""
     ]
    }
   ],
   "source": [
    "install.packages(\"GGally\", lib = lib_path)"
   ]
  },
  {
   "cell_type": "code",
   "execution_count": 24,
   "id": "6b4846bb",
   "metadata": {},
   "outputs": [
    {
     "ename": "ERROR",
     "evalue": "Error in library(\"GGally\"): there is no package called 'GGally'\n",
     "output_type": "error",
     "traceback": [
      "Error in library(\"GGally\"): there is no package called 'GGally'\nTraceback:\n",
      "1. library(\"GGally\")"
     ]
    }
   ],
   "source": [
    "library('GGally')"
   ]
  },
  {
   "cell_type": "code",
   "execution_count": 26,
   "id": "c5571043",
   "metadata": {},
   "outputs": [
    {
     "name": "stderr",
     "output_type": "stream",
     "text": [
      "also installing the dependencies 'cli', 'lifecycle', 'rlang', 'vctrs', 'ggplot2', 'scales'\n",
      "\n"
     ]
    },
    {
     "name": "stdout",
     "output_type": "stream",
     "text": [
      "\n",
      "  There are binary versions available but the source versions are later:\n",
      "          binary source needs_compilation\n",
      "cli        2.5.0  3.4.1              TRUE\n",
      "lifecycle  1.0.0  1.0.3             FALSE\n",
      "rlang     0.4.11  1.0.6              TRUE\n",
      "vctrs      0.3.8  0.5.1              TRUE\n",
      "ggplot2    3.3.3  3.4.0             FALSE\n",
      "scales     1.1.1  1.2.1             FALSE\n",
      "GGally     2.1.1  2.1.2             FALSE\n",
      "\n",
      "  Binaries will be installed\n",
      "package 'cli' successfully unpacked and MD5 sums checked\n",
      "package 'rlang' successfully unpacked and MD5 sums checked\n",
      "package 'vctrs' successfully unpacked and MD5 sums checked\n",
      "\n",
      "The downloaded binary packages are in\n",
      "\tC:\\Users\\Asus\\AppData\\Local\\Temp\\Rtmp21Ls9N\\downloaded_packages\n"
     ]
    },
    {
     "name": "stderr",
     "output_type": "stream",
     "text": [
      "installing the source packages 'lifecycle', 'ggplot2', 'scales', 'GGally'\n",
      "\n",
      "Warning message in install.packages(\"GGally\", repos = \"http://cran.us.r-project.org\", :\n",
      "\"installation of package 'lifecycle' had non-zero exit status\"Warning message in install.packages(\"GGally\", repos = \"http://cran.us.r-project.org\", :\n",
      "\"installation of package 'scales' had non-zero exit status\"Warning message in install.packages(\"GGally\", repos = \"http://cran.us.r-project.org\", :\n",
      "\"installation of package 'ggplot2' had non-zero exit status\"Warning message in install.packages(\"GGally\", repos = \"http://cran.us.r-project.org\", :\n",
      "\"installation of package 'GGally' had non-zero exit status\""
     ]
    }
   ],
   "source": [
    "install.packages(\"GGally\", repos='http://cran.us.r-project.org', lib = lib_path)"
   ]
  },
  {
   "cell_type": "code",
   "execution_count": 4,
   "id": "cefad888",
   "metadata": {},
   "outputs": [
    {
     "ename": "ERROR",
     "evalue": "Error in ggplot(., aes(x = price)): could not find function \"ggplot\"\n",
     "output_type": "error",
     "traceback": [
      "Error in ggplot(., aes(x = price)): could not find function \"ggplot\"\nTraceback:\n",
      "1. house %>% ggplot(aes(x = price))"
     ]
    }
   ],
   "source": [
    "house %>% \n",
    "  ggplot(aes(x=price)) +\n",
    "  geom_histogram(aes(y=..density..),color = \"black\", fill=\"white\")+\n",
    "  geom_density(alpha=0.2, fill=\"blue\")+\n",
    "  labs(title = \"House Price Distribution\") +\n",
    "  theme_minimal()+\n",
    "  theme(\n",
    "    plot.title = element_text(hjust = 0.5),\n",
    "    axis.title = element_text(size = 9, face =\"bold\"),\n",
    "    axis.title.y = element_text(margin = margin(l=5)),\n",
    "    axis.title.x.bottom = element_text(margin = margin(b=5))\n",
    "  )"
   ]
  },
  {
   "cell_type": "code",
   "execution_count": 6,
   "id": "5453ffaf",
   "metadata": {},
   "outputs": [
    {
     "name": "stderr",
     "output_type": "stream",
     "text": [
      "Registered S3 methods overwritten by 'ggplot2':\n",
      "  method         from \n",
      "  [.quosures     rlang\n",
      "  c.quosures     rlang\n",
      "  print.quosures rlang\n"
     ]
    }
   ],
   "source": [
    "library(ggplot2)"
   ]
  },
  {
   "cell_type": "code",
   "execution_count": 7,
   "id": "31109016",
   "metadata": {},
   "outputs": [
    {
     "ename": "ERROR",
     "evalue": "Error in ggplot(., aes(x = price)): object 'house' not found\n",
     "output_type": "error",
     "traceback": [
      "Error in ggplot(., aes(x = price)): object 'house' not found\nTraceback:\n",
      "1. house %>% ggplot(aes(x = price))",
      "2. ggplot(., aes(x = price))"
     ]
    }
   ],
   "source": [
    "house %>% \n",
    "  ggplot(aes(x=price)) +\n",
    "  geom_histogram(aes(y=..density..),color = \"black\", fill=\"white\")+\n",
    "  geom_density(alpha=0.2, fill=\"blue\")+\n",
    "  labs(title = \"House Price Distribution\") +\n",
    "  theme_minimal()+\n",
    "  theme(\n",
    "    plot.title = element_text(hjust = 0.5),\n",
    "    axis.title = element_text(size = 9, face =\"bold\"),\n",
    "    axis.title.y = element_text(margin = margin(l=5)),\n",
    "    axis.title.x.bottom = element_text(margin = margin(b=5))\n",
    "  )"
   ]
  },
  {
   "cell_type": "code",
   "execution_count": 20,
   "id": "093e9f9f",
   "metadata": {},
   "outputs": [],
   "source": [
    "house_clean <- house %>% \n",
    "  filter(price < 2000000)"
   ]
  },
  {
   "cell_type": "code",
   "execution_count": 21,
   "id": "d97bcbc1",
   "metadata": {},
   "outputs": [],
   "source": [
    "set.seed(999)\n",
    "idx_house <- sample (x=nrow(house_clean),size=nrow(house_clean)*0.8)\n",
    "house_train <- house_clean[idx_house,]\n",
    "house_test <- house_clean[-idx_house,]"
   ]
  },
  {
   "cell_type": "code",
   "execution_count": 22,
   "id": "6ba038de",
   "metadata": {},
   "outputs": [
    {
     "data": {
      "text/plain": [
       "\n",
       "Call:\n",
       "lm(formula = price ~ ., data = house_train)\n",
       "\n",
       "Residuals:\n",
       "    Min      1Q  Median      3Q     Max \n",
       "-851108  -87784  -11038   68081 1122610 \n",
       "\n",
       "Coefficients: (1 not defined because of singularities)\n",
       "                Estimate Std. Error t value Pr(>|t|)    \n",
       "(Intercept)   -2.888e+05  2.511e+06  -0.115 0.908451    \n",
       "bedrooms      -1.768e+04  1.699e+03 -10.407  < 2e-16 ***\n",
       "bathrooms      3.060e+04  2.518e+03  12.153  < 2e-16 ***\n",
       "sqft_living    1.009e+02  3.730e+00  27.046  < 2e-16 ***\n",
       "sqft_lot       2.331e-01  4.247e-02   5.490 4.08e-08 ***\n",
       "floors         2.429e+04  3.159e+03   7.690 1.56e-14 ***\n",
       "waterfront     2.693e+05  1.769e+04  15.223  < 2e-16 ***\n",
       "view           4.752e+04  1.866e+03  25.463  < 2e-16 ***\n",
       "condition      2.858e+04  2.019e+03  14.156  < 2e-16 ***\n",
       "grade          9.154e+04  1.862e+03  49.160  < 2e-16 ***\n",
       "sqft_above     1.234e+01  3.713e+00   3.322 0.000895 ***\n",
       "sqft_basement         NA         NA      NA       NA    \n",
       "yr_built      -2.167e+03  6.337e+01 -34.196  < 2e-16 ***\n",
       "yr_renovated   2.366e+01  3.204e+00   7.385 1.60e-13 ***\n",
       "zipcode       -4.287e+02  2.830e+01 -15.148  < 2e-16 ***\n",
       "lat            5.934e+05  9.206e+03  64.460  < 2e-16 ***\n",
       "long          -1.452e+05  1.127e+04 -12.885  < 2e-16 ***\n",
       "sqft_living15  4.344e+01  3.036e+00  14.309  < 2e-16 ***\n",
       "sqft_lot15    -2.223e-01  6.350e-02  -3.501 0.000464 ***\n",
       "---\n",
       "Signif. codes:  0 '***' 0.001 '**' 0.01 '*' 0.05 '.' 0.1 ' ' 1\n",
       "\n",
       "Residual standard error: 153700 on 17108 degrees of freedom\n",
       "Multiple R-squared:  0.7133,\tAdjusted R-squared:  0.713 \n",
       "F-statistic:  2503 on 17 and 17108 DF,  p-value: < 2.2e-16\n"
      ]
     },
     "metadata": {},
     "output_type": "display_data"
    }
   ],
   "source": [
    "model_all <- lm(formula = price ~ ., data = house_train)\n",
    "\n",
    "summary(model_all)"
   ]
  },
  {
   "cell_type": "code",
   "execution_count": 48,
   "id": "09354c06",
   "metadata": {},
   "outputs": [
    {
     "data": {
      "text/plain": [
       "\n",
       "Call:\n",
       "lm(formula = price ~ bedrooms + bathrooms + sqft_living + sqft_lot + \n",
       "    floors + waterfront + view + condition + grade + sqft_above + \n",
       "    yr_built + yr_renovated + zipcode + lat + long + sqft_living15 + \n",
       "    sqft_lot15, data = house_train)\n",
       "\n",
       "Residuals:\n",
       "    Min      1Q  Median      3Q     Max \n",
       "-851108  -87784  -11038   68081 1122610 \n",
       "\n",
       "Coefficients:\n",
       "                Estimate Std. Error t value Pr(>|t|)    \n",
       "(Intercept)   -2.888e+05  2.511e+06  -0.115 0.908451    \n",
       "bedrooms      -1.768e+04  1.699e+03 -10.407  < 2e-16 ***\n",
       "bathrooms      3.060e+04  2.518e+03  12.153  < 2e-16 ***\n",
       "sqft_living    1.009e+02  3.730e+00  27.046  < 2e-16 ***\n",
       "sqft_lot       2.331e-01  4.247e-02   5.490 4.08e-08 ***\n",
       "floors         2.429e+04  3.159e+03   7.690 1.56e-14 ***\n",
       "waterfront     2.693e+05  1.769e+04  15.223  < 2e-16 ***\n",
       "view           4.752e+04  1.866e+03  25.463  < 2e-16 ***\n",
       "condition      2.858e+04  2.019e+03  14.156  < 2e-16 ***\n",
       "grade          9.154e+04  1.862e+03  49.160  < 2e-16 ***\n",
       "sqft_above     1.234e+01  3.713e+00   3.322 0.000895 ***\n",
       "yr_built      -2.167e+03  6.337e+01 -34.196  < 2e-16 ***\n",
       "yr_renovated   2.366e+01  3.204e+00   7.385 1.60e-13 ***\n",
       "zipcode       -4.287e+02  2.830e+01 -15.148  < 2e-16 ***\n",
       "lat            5.934e+05  9.206e+03  64.460  < 2e-16 ***\n",
       "long          -1.452e+05  1.127e+04 -12.885  < 2e-16 ***\n",
       "sqft_living15  4.344e+01  3.036e+00  14.309  < 2e-16 ***\n",
       "sqft_lot15    -2.223e-01  6.350e-02  -3.501 0.000464 ***\n",
       "---\n",
       "Signif. codes:  0 '***' 0.001 '**' 0.01 '*' 0.05 '.' 0.1 ' ' 1\n",
       "\n",
       "Residual standard error: 153700 on 17108 degrees of freedom\n",
       "Multiple R-squared:  0.7133,\tAdjusted R-squared:  0.713 \n",
       "F-statistic:  2503 on 17 and 17108 DF,  p-value: < 2.2e-16\n"
      ]
     },
     "metadata": {},
     "output_type": "display_data"
    }
   ],
   "source": [
    "model_back <- step(model_all, direction = \"backward\", trace = F)\n",
    "summary(model_back)"
   ]
  },
  {
   "cell_type": "code",
   "execution_count": 49,
   "id": "dd51f52f",
   "metadata": {},
   "outputs": [],
   "source": [
    "pred <-  predict(object = model_back, newdata = house_test)"
   ]
  },
  {
   "cell_type": "code",
   "execution_count": 56,
   "id": "2198d8c4",
   "metadata": {},
   "outputs": [
    {
     "name": "stderr",
     "output_type": "stream",
     "text": [
      "Installing package into 'C:/Users/Asus/Documents/R/win-library/3.6'\n",
      "(as 'lib' is unspecified)\n"
     ]
    },
    {
     "name": "stdout",
     "output_type": "stream",
     "text": [
      "package 'Metrics' successfully unpacked and MD5 sums checked\n",
      "\n",
      "The downloaded binary packages are in\n",
      "\tC:\\Users\\Asus\\AppData\\Local\\Temp\\Rtmpe62LoP\\downloaded_packages\n"
     ]
    }
   ],
   "source": [
    "install.packages(\"Metrics\")\n"
   ]
  },
  {
   "cell_type": "code",
   "execution_count": 57,
   "id": "e0404c4a",
   "metadata": {},
   "outputs": [
    {
     "name": "stderr",
     "output_type": "stream",
     "text": [
      "Warning message:\n",
      "\"package 'Metrics' was built under R version 3.6.3\""
     ]
    }
   ],
   "source": [
    "library(Metrics)"
   ]
  },
  {
   "cell_type": "code",
   "execution_count": 80,
   "id": "a6c4fcf0",
   "metadata": {},
   "outputs": [],
   "source": [
    "mseP <- mse(pred, house_test$price)\n",
    "rmseP <- rmse(pred, house_test$price)\n",
    "maeP <- mae(pred, house_test$price)\n",
    "mapeP <- mape(pred, house_test$price)"
   ]
  },
  {
   "cell_type": "code",
   "execution_count": 61,
   "id": "1d1aeb0d",
   "metadata": {},
   "outputs": [],
   "source": [
    "resact <- data.frame(residual = model_back$residuals, fitted = model_back$fitted.values)"
   ]
  },
  {
   "cell_type": "code",
   "execution_count": 64,
   "id": "95c97322",
   "metadata": {},
   "outputs": [
    {
     "data": {
      "image/png": "[encoded data removed]",
      "text/plain": [
       "plot without title"
      ]
     },
     "metadata": {},
     "output_type": "display_data"
    }
   ],
   "source": [
    "plot(resact)"
   ]
  },
  {
   "cell_type": "code",
   "execution_count": 65,
   "id": "422c6edd",
   "metadata": {},
   "outputs": [
    {
     "data": {
      "image/png": "[encoded data removed]",
      "text/plain": [
       "Plot with title \"Histogram of model_back$residuals\""
      ]
     },
     "metadata": {},
     "output_type": "display_data"
    }
   ],
   "source": [
    "hist(model_back$residuals)"
   ]
  },
  {
   "cell_type": "code",
   "execution_count": 67,
   "id": "24063c78",
   "metadata": {},
   "outputs": [],
   "source": [
    "library(\"stats\")"
   ]
  },
  {
   "cell_type": "code",
   "execution_count": 68,
   "id": "04a5add0",
   "metadata": {},
   "outputs": [
    {
     "name": "stderr",
     "output_type": "stream",
     "text": [
      "Warning message:\n",
      "\"package 'lmtest' was built under R version 3.6.3\"Loading required package: zoo\n",
      "Warning message:\n",
      "\"package 'zoo' was built under R version 3.6.3\"\n",
      "Attaching package: 'zoo'\n",
      "\n",
      "The following objects are masked from 'package:base':\n",
      "\n",
      "    as.Date, as.Date.numeric\n",
      "\n"
     ]
    }
   ],
   "source": [
    "library(\"lmtest\")"
   ]
  },
  {
   "cell_type": "code",
   "execution_count": 69,
   "id": "f321369d",
   "metadata": {},
   "outputs": [
    {
     "data": {
      "text/plain": [
       "\n",
       "\tstudentized Breusch-Pagan test\n",
       "\n",
       "data:  model_back\n",
       "BP = 2212.1, df = 17, p-value < 2.2e-16\n"
      ]
     },
     "metadata": {},
     "output_type": "display_data"
    }
   ],
   "source": [
    "bptest(model_back)"
   ]
  },
  {
   "cell_type": "code",
   "execution_count": 71,
   "id": "d6027885",
   "metadata": {},
   "outputs": [
    {
     "name": "stderr",
     "output_type": "stream",
     "text": [
      "Warning message:\n",
      "\"package 'car' was built under R version 3.6.2\"Loading required package: carData\n",
      "Warning message:\n",
      "\"package 'carData' was built under R version 3.6.2\"\n",
      "Attaching package: 'car'\n",
      "\n",
      "The following object is masked from 'package:dplyr':\n",
      "\n",
      "    recode\n",
      "\n"
     ]
    }
   ],
   "source": [
    "library(\"car\")"
   ]
  },
  {
   "cell_type": "code",
   "execution_count": 72,
   "id": "44d78444",
   "metadata": {},
   "outputs": [
    {
     "data": {
      "text/html": [
       "<dl class=dl-horizontal>\n",
       "\t<dt>bedrooms</dt>\n",
       "\t\t<dd>1.68780914668868</dd>\n",
       "\t<dt>bathrooms</dt>\n",
       "\t\t<dd>2.30089448320434</dd>\n",
       "\t<dt>sqft_living</dt>\n",
       "\t\t<dd>7.46962378205783</dd>\n",
       "\t<dt>sqft_lot</dt>\n",
       "\t\t<dd>2.09617992744195</dd>\n",
       "\t<dt>floors</dt>\n",
       "\t\t<dd>2.20944453139219</dd>\n",
       "\t<dt>waterfront</dt>\n",
       "\t\t<dd>1.14760583683605</dd>\n",
       "\t<dt>view</dt>\n",
       "\t\t<dd>1.3418385702353</dd>\n",
       "\t<dt>condition</dt>\n",
       "\t\t<dd>1.24755891254888</dd>\n",
       "\t<dt>grade</dt>\n",
       "\t\t<dd>3.22976523980152</dd>\n",
       "\t<dt>sqft_above</dt>\n",
       "\t\t<dd>6.24423539702299</dd>\n",
       "\t<dt>yr_built</dt>\n",
       "\t\t<dd>2.5135177873234</dd>\n",
       "\t<dt>yr_renovated</dt>\n",
       "\t\t<dd>1.14876674214685</dd>\n",
       "\t<dt>zipcode</dt>\n",
       "\t\t<dd>1.66525478783534</dd>\n",
       "\t<dt>lat</dt>\n",
       "\t\t<dd>1.18709038387957</dd>\n",
       "\t<dt>long</dt>\n",
       "\t\t<dd>1.84040884292247</dd>\n",
       "\t<dt>sqft_living15</dt>\n",
       "\t\t<dd>2.97558532870602</dd>\n",
       "\t<dt>sqft_lot15</dt>\n",
       "\t\t<dd>2.12987607589161</dd>\n",
       "</dl>\n"
      ],
      "text/latex": [
       "\\begin{description*}\n",
       "\\item[bedrooms] 1.68780914668868\n",
       "\\item[bathrooms] 2.30089448320434\n",
       "\\item[sqft\\textbackslash{}\\_living] 7.46962378205783\n",
       "\\item[sqft\\textbackslash{}\\_lot] 2.09617992744195\n",
       "\\item[floors] 2.20944453139219\n",
       "\\item[waterfront] 1.14760583683605\n",
       "\\item[view] 1.3418385702353\n",
       "\\item[condition] 1.24755891254888\n",
       "\\item[grade] 3.22976523980152\n",
       "\\item[sqft\\textbackslash{}\\_above] 6.24423539702299\n",
       "\\item[yr\\textbackslash{}\\_built] 2.5135177873234\n",
       "\\item[yr\\textbackslash{}\\_renovated] 1.14876674214685\n",
       "\\item[zipcode] 1.66525478783534\n",
       "\\item[lat] 1.18709038387957\n",
       "\\item[long] 1.84040884292247\n",
       "\\item[sqft\\textbackslash{}\\_living15] 2.97558532870602\n",
       "\\item[sqft\\textbackslash{}\\_lot15] 2.12987607589161\n",
       "\\end{description*}\n"
      ],
      "text/markdown": [
       "bedrooms\n",
       ":   1.68780914668868bathrooms\n",
       ":   2.30089448320434sqft_living\n",
       ":   7.46962378205783sqft_lot\n",
       ":   2.09617992744195floors\n",
       ":   2.20944453139219waterfront\n",
       ":   1.14760583683605view\n",
       ":   1.3418385702353condition\n",
       ":   1.24755891254888grade\n",
       ":   3.22976523980152sqft_above\n",
       ":   6.24423539702299yr_built\n",
       ":   2.5135177873234yr_renovated\n",
       ":   1.14876674214685zipcode\n",
       ":   1.66525478783534lat\n",
       ":   1.18709038387957long\n",
       ":   1.84040884292247sqft_living15\n",
       ":   2.97558532870602sqft_lot15\n",
       ":   2.12987607589161\n",
       "\n"
      ],
      "text/plain": [
       "     bedrooms     bathrooms   sqft_living      sqft_lot        floors \n",
       "     1.687809      2.300894      7.469624      2.096180      2.209445 \n",
       "   waterfront          view     condition         grade    sqft_above \n",
       "     1.147606      1.341839      1.247559      3.229765      6.244235 \n",
       "     yr_built  yr_renovated       zipcode           lat          long \n",
       "     2.513518      1.148767      1.665255      1.187090      1.840409 \n",
       "sqft_living15    sqft_lot15 \n",
       "     2.975585      2.129876 "
      ]
     },
     "metadata": {},
     "output_type": "display_data"
    }
   ],
   "source": [
    "vif(model_back)"
   ]
  },
  {
   "cell_type": "code",
   "execution_count": 78,
   "id": "d7ae50ff",
   "metadata": {},
   "outputs": [
    {
     "data": {
      "text/html": [
       "106204.176615198"
      ],
      "text/latex": [
       "106204.176615198"
      ],
      "text/markdown": [
       "106204.176615198"
      ],
      "text/plain": [
       "[1] 106204.2"
      ]
     },
     "metadata": {},
     "output_type": "display_data"
    }
   ],
   "source": [
    "mae(pred, house_test$price)"
   ]
  },
  {
   "cell_type": "code",
   "execution_count": 81,
   "id": "aa57e0ec",
   "metadata": {},
   "outputs": [
    {
     "data": {
      "text/html": [
       "<table>\n",
       "<thead><tr><th scope=col>MSE</th><th scope=col>RMSE</th><th scope=col>MAE</th><th scope=col>MAPE</th></tr></thead>\n",
       "<tbody>\n",
       "\t<tr><td>22876989991</td><td>151251.4   </td><td>106204.2   </td><td>0.2654446  </td></tr>\n",
       "</tbody>\n",
       "</table>\n"
      ],
      "text/latex": [
       "\\begin{tabular}{r|llll}\n",
       " MSE & RMSE & MAE & MAPE\\\\\n",
       "\\hline\n",
       "\t 22876989991 & 151251.4    & 106204.2    & 0.2654446  \\\\\n",
       "\\end{tabular}\n"
      ],
      "text/markdown": [
       "\n",
       "| MSE | RMSE | MAE | MAPE |\n",
       "|---|---|---|---|\n",
       "| 22876989991 | 151251.4    | 106204.2    | 0.2654446   |\n",
       "\n"
      ],
      "text/plain": [
       "  MSE         RMSE     MAE      MAPE     \n",
       "1 22876989991 151251.4 106204.2 0.2654446"
      ]
     },
     "metadata": {},
     "output_type": "display_data"
    }
   ],
   "source": [
    "data.frame(\"MSE\"=mseP,\"RMSE\"=rmseP,\"MAE\"=maeP,\"MAPE\"=mapeP)"
   ]
  },
  {
   "cell_type": "code",
   "execution_count": 83,
   "id": "c4757530",
   "metadata": {},
   "outputs": [
    {
     "data": {
      "text/html": [
       "106204.176615198"
      ],
      "text/latex": [
       "106204.176615198"
      ],
      "text/markdown": [
       "106204.176615198"
      ],
      "text/plain": [
       "[1] 106204.2"
      ]
     },
     "metadata": {},
     "output_type": "display_data"
    }
   ],
   "source": [
    "df <- data.frame(house_test$price, pred)\n",
    "mae(df[, 2], df[, 1])"
   ]
  },
  {
   "cell_type": "code",
   "execution_count": 84,
   "id": "9034c335",
   "metadata": {},
   "outputs": [
    {
     "name": "stderr",
     "output_type": "stream",
     "text": [
      "Warning message:\n",
      "\"package 'data.table' was built under R version 3.6.3\"\n",
      "Attaching package: 'data.table'\n",
      "\n",
      "The following objects are masked from 'package:dplyr':\n",
      "\n",
      "    between, first, last\n",
      "\n"
     ]
    }
   ],
   "source": [
    "library(\"data.table\")"
   ]
  },
  {
   "cell_type": "code",
   "execution_count": 85,
   "id": "05d9b0b7",
   "metadata": {},
   "outputs": [
    {
     "data": {
      "text/html": [
       "106204.176615198"
      ],
      "text/latex": [
       "106204.176615198"
      ],
      "text/markdown": [
       "106204.176615198"
      ],
      "text/plain": [
       "[1] 106204.2"
      ]
     },
     "metadata": {},
     "output_type": "display_data"
    }
   ],
   "source": [
    "df <- data.table(house_test$price, pred)\n",
    "mae(df[, 2, with = FALSE][[1]], df[, 1, with = FALSE][[1]])"
   ]
  },
  {
   "cell_type": "code",
   "execution_count": null,
   "id": "f63e0bd2",
   "metadata": {},
   "outputs": [],
   "source": []
  }
 ],
 "metadata": {
  "kernelspec": {
   "display_name": "R",
   "language": "R",
   "name": "ir"
  },
  "language_info": {
   "codemirror_mode": "r",
   "file_extension": ".r",
   "mimetype": "text/x-r-source",
   "name": "R",
   "pygments_lexer": "r",
   "version": "3.6.1"
  }
 },
 "nbformat": 4,
 "nbformat_minor": 5
}
